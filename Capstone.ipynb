{
 "cells": [
  {
   "cell_type": "markdown",
   "metadata": {},
   "source": [
    "# Capstone Project - The Battle of the Neighborhoods (Week 2)\n",
    "### Applied Data Science Capstone by IBM/Coursera"
   ]
  },
  {
   "cell_type": "markdown",
   "metadata": {},
   "source": [
    "## Table of contents\n",
    "* [Introduction: Business Problem](#introduction)\n",
    "* [Data](#data)\n",
    "* [Methodology](#Methodology)\n",
    "* [Analysis](#analysis)\n",
    "* [Results and Discussion](#results)\n",
    "* [Conclusion](#conclusion)"
   ]
  },
  {
   "cell_type": "markdown",
   "metadata": {},
   "source": [
    "## Introduction: Business Problem <a name=\"introduction\"></a>"
   ]
  },
  {
   "cell_type": "markdown",
   "metadata": {},
   "source": [
    "The problem I have chosen to analyse involves the decision regarding where to open a gym in Manhattan, New York City , USA. There are several factors which will play a role in determining this optimal location. The gym needs to be centrally located and needs to be easily accessible from all parts of the city. \n",
    "\n",
    "The gym should also have complementary venues near it. For example, the presence of a spa nearby will encourage customers to purchase gym membership of said gym. The gym should also not exist in a place where several gyms already exist which would generate unnecessary competition. Clusters will be generated to assess each neighborhood. \n",
    "\n",
    "I will attempt to generate a list of neighbourhoods most suitable which will result in maximum revenue for the stakeholder wishing to set up the gym. \n"
   ]
  },
  {
   "cell_type": "markdown",
   "metadata": {},
   "source": [
    "## Data <a name=\"data\"></a>"
   ]
  },
  {
   "cell_type": "markdown",
   "metadata": {},
   "source": [
    "Based on the factors I discussed above, the following data will be required:\n",
    "*\tThe distance of each neighbourhood from the centre of the city.\n",
    "*\tThe venues nearby which are complementary to the gym.\n",
    "*\tThe number of gyms that exist in each neighbourhood.\n",
    "\n",
    "The neighbourhoods have been identified from the source: https://cocl.us/new_york_dataset. All the features will be extracted from this data source.\n",
    "The other data will be extracted using the Foursquare API. The location of each neighbourhood will be obtained from the GeoPy GeoCoder package in Python.\n"
   ]
  },
  {
   "cell_type": "markdown",
   "metadata": {},
   "source": [
    "## Methodology <a name=\"Methodology\"></a>"
   ]
  },
  {
   "cell_type": "markdown",
   "metadata": {},
   "source": [
    "The steps involved in the conduction of this project and the efficient detection of suitable neighborhoods in which to establish a gym:\n",
    "* The first step involves obtaining the data in the appropriate format\n",
    "* I obtained the **latitude and longitude** of all these neighborhoods in New York City\n",
    "* I then focused my attention to Manhattan Borough and plotted its neighborhoods using Folium.\n",
    "* I fixed the center of the city as **Central Park** to maintain a reference point\n",
    "* The **distance** of each neighborhood from the center was calculated using GeoPy.\n",
    "* Only those neighborhoods were shortlisted which were **less than 5 Kms from the centre**.This gave me **21 neighborhoods** to work with.\n",
    "* Obtained the venues in each neighborhood's vicinity which gave me approximately **1500 locations**. This was done by sending **get requests to Foursquare API**.\n",
    "* I obtained the **top 5 most common venues** categories for each neighborhood.\n",
    "* I then obtained a dataframe which shows the number of gyms within 500m each neighborhood.\n",
    "* **KNN algorithm was applied to this dataset** to sort the neighborhoods into **5 clusters**.\n",
    "* Each cluster was analyzed to assess its characteristics\n",
    "* I then plotted a **barchart** using seaborn to showcase the **potential of each neighborhood** when it comes to establishing a Gym."
   ]
  },
  {
   "cell_type": "markdown",
   "metadata": {},
   "source": [
    "### Import all required packages"
   ]
  },
  {
   "cell_type": "code",
   "execution_count": 1,
   "metadata": {},
   "outputs": [
    {
     "name": "stdout",
     "output_type": "stream",
     "text": [
      "Collecting package metadata (current_repodata.json): done\n",
      "Solving environment: done\n",
      "\n",
      "## Package Plan ##\n",
      "\n",
      "  environment location: /home/jupyterlab/conda/envs/python\n",
      "\n",
      "  added / updated specs:\n",
      "    - geopy\n",
      "\n",
      "\n",
      "The following packages will be downloaded:\n",
      "\n",
      "    package                    |            build\n",
      "    ---------------------------|-----------------\n",
      "    geographiclib-1.50         |             py_0          34 KB  conda-forge\n",
      "    geopy-1.21.0               |             py_0          58 KB  conda-forge\n",
      "    ------------------------------------------------------------\n",
      "                                           Total:          92 KB\n",
      "\n",
      "The following NEW packages will be INSTALLED:\n",
      "\n",
      "  geographiclib      conda-forge/noarch::geographiclib-1.50-py_0\n",
      "  geopy              conda-forge/noarch::geopy-1.21.0-py_0\n",
      "\n",
      "\n",
      "\n",
      "Downloading and Extracting Packages\n",
      "geopy-1.21.0         | 58 KB     | ##################################### | 100% \n",
      "geographiclib-1.50   | 34 KB     | ##################################### | 100% \n",
      "Preparing transaction: done\n",
      "Verifying transaction: done\n",
      "Executing transaction: done\n",
      "done\n"
     ]
    }
   ],
   "source": [
    "import numpy as np #import the required packages and libraries\n",
    "import pandas as pd\n",
    "import folium\n",
    "import json\n",
    "!conda install -c conda-forge geopy --yes \n",
    "from geopy.geocoders import Nominatim\n",
    "import requests\n",
    "import matplotlib.cm as cm\n",
    "import matplotlib.colors as colors\n",
    "from sklearn.cluster import KMeans\n",
    "print(\"done\")"
   ]
  },
  {
   "cell_type": "markdown",
   "metadata": {},
   "source": [
    "### Download the dataset"
   ]
  },
  {
   "cell_type": "code",
   "execution_count": 2,
   "metadata": {},
   "outputs": [
    {
     "name": "stdout",
     "output_type": "stream",
     "text": [
      "Data downloaded!\n"
     ]
    }
   ],
   "source": [
    "!wget -q -O 'newyork_data.json' https://cocl.us/new_york_dataset\n",
    "print('Data downloaded!')"
   ]
  },
  {
   "cell_type": "code",
   "execution_count": 3,
   "metadata": {},
   "outputs": [],
   "source": [
    "with open('newyork_data.json') as json_data: #Loading the json file\n",
    "    newyork_data = json.load(json_data)"
   ]
  },
  {
   "cell_type": "markdown",
   "metadata": {},
   "source": [
    "### Explore the dataset"
   ]
  },
  {
   "cell_type": "code",
   "execution_count": 4,
   "metadata": {},
   "outputs": [],
   "source": [
    "neighborhoods_data = newyork_data['features'] #extracting the features only for our analysis"
   ]
  },
  {
   "cell_type": "code",
   "execution_count": 5,
   "metadata": {},
   "outputs": [
    {
     "data": {
      "text/plain": [
       "{'type': 'Feature',\n",
       " 'id': 'nyu_2451_34572.1',\n",
       " 'geometry': {'type': 'Point',\n",
       "  'coordinates': [-73.84720052054902, 40.89470517661]},\n",
       " 'geometry_name': 'geom',\n",
       " 'properties': {'name': 'Wakefield',\n",
       "  'stacked': 1,\n",
       "  'annoline1': 'Wakefield',\n",
       "  'annoline2': None,\n",
       "  'annoline3': None,\n",
       "  'annoangle': 0.0,\n",
       "  'borough': 'Bronx',\n",
       "  'bbox': [-73.84720052054902,\n",
       "   40.89470517661,\n",
       "   -73.84720052054902,\n",
       "   40.89470517661]}}"
      ]
     },
     "execution_count": 5,
     "metadata": {},
     "output_type": "execute_result"
    }
   ],
   "source": [
    "neighborhoods_data[0]"
   ]
  },
  {
   "cell_type": "markdown",
   "metadata": {},
   "source": [
    "#### Tranform the data into a *pandas* dataframe"
   ]
  },
  {
   "cell_type": "code",
   "execution_count": 6,
   "metadata": {},
   "outputs": [],
   "source": [
    "column_names = ['Borough', 'Neighborhood', 'Latitude', 'Longitude'] #Construction of the DataFrame\n",
    "\n",
    "# instantiate the dataframe\n",
    "neighborhoods = pd.DataFrame(columns=column_names)"
   ]
  },
  {
   "cell_type": "code",
   "execution_count": 7,
   "metadata": {},
   "outputs": [
    {
     "data": {
      "text/html": [
       "<div>\n",
       "<style scoped>\n",
       "    .dataframe tbody tr th:only-of-type {\n",
       "        vertical-align: middle;\n",
       "    }\n",
       "\n",
       "    .dataframe tbody tr th {\n",
       "        vertical-align: top;\n",
       "    }\n",
       "\n",
       "    .dataframe thead th {\n",
       "        text-align: right;\n",
       "    }\n",
       "</style>\n",
       "<table border=\"1\" class=\"dataframe\">\n",
       "  <thead>\n",
       "    <tr style=\"text-align: right;\">\n",
       "      <th></th>\n",
       "      <th>Borough</th>\n",
       "      <th>Neighborhood</th>\n",
       "      <th>Latitude</th>\n",
       "      <th>Longitude</th>\n",
       "    </tr>\n",
       "  </thead>\n",
       "  <tbody>\n",
       "  </tbody>\n",
       "</table>\n",
       "</div>"
      ],
      "text/plain": [
       "Empty DataFrame\n",
       "Columns: [Borough, Neighborhood, Latitude, Longitude]\n",
       "Index: []"
      ]
     },
     "execution_count": 7,
     "metadata": {},
     "output_type": "execute_result"
    }
   ],
   "source": [
    "neighborhoods #Checking if the Dataframe is correct"
   ]
  },
  {
   "cell_type": "markdown",
   "metadata": {},
   "source": [
    "Then let's loop through the data and fill the dataframe one row at a time."
   ]
  },
  {
   "cell_type": "code",
   "execution_count": 8,
   "metadata": {},
   "outputs": [],
   "source": [
    "for data in neighborhoods_data:\n",
    "    Borough=data['properties']['borough']\n",
    "    Neighborhood=data['properties']['name']\n",
    "    Longitude=data['properties']['bbox'][1]\n",
    "    Latitude=data['properties']['bbox'][0]\n",
    "    neighborhoods = neighborhoods.append({'Borough': Borough,\n",
    "                                          'Neighborhood': Neighborhood,\n",
    "                                          'Longitude': Latitude,\n",
    "                                          'Latitude': Longitude}, ignore_index=True)  "
   ]
  },
  {
   "cell_type": "code",
   "execution_count": 9,
   "metadata": {},
   "outputs": [
    {
     "data": {
      "text/html": [
       "<div>\n",
       "<style scoped>\n",
       "    .dataframe tbody tr th:only-of-type {\n",
       "        vertical-align: middle;\n",
       "    }\n",
       "\n",
       "    .dataframe tbody tr th {\n",
       "        vertical-align: top;\n",
       "    }\n",
       "\n",
       "    .dataframe thead th {\n",
       "        text-align: right;\n",
       "    }\n",
       "</style>\n",
       "<table border=\"1\" class=\"dataframe\">\n",
       "  <thead>\n",
       "    <tr style=\"text-align: right;\">\n",
       "      <th></th>\n",
       "      <th>Borough</th>\n",
       "      <th>Neighborhood</th>\n",
       "      <th>Latitude</th>\n",
       "      <th>Longitude</th>\n",
       "    </tr>\n",
       "  </thead>\n",
       "  <tbody>\n",
       "    <tr>\n",
       "      <th>0</th>\n",
       "      <td>Bronx</td>\n",
       "      <td>Wakefield</td>\n",
       "      <td>40.894705</td>\n",
       "      <td>-73.847201</td>\n",
       "    </tr>\n",
       "    <tr>\n",
       "      <th>1</th>\n",
       "      <td>Bronx</td>\n",
       "      <td>Co-op City</td>\n",
       "      <td>40.874294</td>\n",
       "      <td>-73.829939</td>\n",
       "    </tr>\n",
       "    <tr>\n",
       "      <th>2</th>\n",
       "      <td>Bronx</td>\n",
       "      <td>Eastchester</td>\n",
       "      <td>40.887556</td>\n",
       "      <td>-73.827806</td>\n",
       "    </tr>\n",
       "    <tr>\n",
       "      <th>3</th>\n",
       "      <td>Bronx</td>\n",
       "      <td>Fieldston</td>\n",
       "      <td>40.895437</td>\n",
       "      <td>-73.905643</td>\n",
       "    </tr>\n",
       "    <tr>\n",
       "      <th>4</th>\n",
       "      <td>Bronx</td>\n",
       "      <td>Riverdale</td>\n",
       "      <td>40.890834</td>\n",
       "      <td>-73.912585</td>\n",
       "    </tr>\n",
       "  </tbody>\n",
       "</table>\n",
       "</div>"
      ],
      "text/plain": [
       "  Borough Neighborhood   Latitude  Longitude\n",
       "0   Bronx    Wakefield  40.894705 -73.847201\n",
       "1   Bronx   Co-op City  40.874294 -73.829939\n",
       "2   Bronx  Eastchester  40.887556 -73.827806\n",
       "3   Bronx    Fieldston  40.895437 -73.905643\n",
       "4   Bronx    Riverdale  40.890834 -73.912585"
      ]
     },
     "execution_count": 9,
     "metadata": {},
     "output_type": "execute_result"
    }
   ],
   "source": [
    "neighborhoods.head()"
   ]
  },
  {
   "cell_type": "markdown",
   "metadata": {},
   "source": [
    "#### Use geopy library to get the latitude and longitude values of New York City."
   ]
  },
  {
   "cell_type": "markdown",
   "metadata": {},
   "source": [
    "In order to define an instance of the geocoder, we need to define a user_agent. We will name our agent <em>ny_explorer</em>, as shown below."
   ]
  },
  {
   "cell_type": "code",
   "execution_count": 10,
   "metadata": {},
   "outputs": [
    {
     "name": "stdout",
     "output_type": "stream",
     "text": [
      "The geograpical coordinate of New York City are 40.7127281, -74.0060152.\n"
     ]
    }
   ],
   "source": [
    "address = 'New York City, NY'\n",
    "\n",
    "geolocator = Nominatim(user_agent=\"ny_explorer\")\n",
    "location = geolocator.geocode(address)\n",
    "latitude = location.latitude\n",
    "longitude = location.longitude\n",
    "print('The geograpical coordinate of New York City are {}, {}.'.format(latitude, longitude))"
   ]
  },
  {
   "cell_type": "markdown",
   "metadata": {},
   "source": [
    "#### Create a map of New York with neighborhoods superimposed on top."
   ]
  },
  {
   "cell_type": "code",
   "execution_count": 11,
   "metadata": {},
   "outputs": [],
   "source": [
    "# create map of New York using latitude and longitude values\n",
    "map_newyork = folium.Map(location=[latitude, longitude], zoom_start=10)\n",
    "\n",
    "# add markers to map\n",
    "for lat, lng, borough, neighborhood in zip(neighborhoods['Latitude'], neighborhoods['Longitude'], neighborhoods['Borough'], neighborhoods['Neighborhood']):\n",
    "    label = '{}, {}'.format(neighborhood, borough)\n",
    "    label = folium.Popup(label, parse_html=True)\n",
    "    folium.CircleMarker(\n",
    "        [lat, lng],\n",
    "        radius=5,\n",
    "        popup=label,\n",
    "        color='blue',\n",
    "        fill=True,\n",
    "        fill_color='#3186cc',\n",
    "        fill_opacity=0.7,\n",
    "        parse_html=False).add_to(map_newyork)  \n",
    "map_newyork    \n"
   ]
  },
  {
   "cell_type": "markdown",
   "metadata": {},
   "source": [
    "let's simplify the above map and segment and cluster only the neighborhoods in Manhattan. So let's slice the original dataframe and create a new dataframe of the Manhattan data."
   ]
  },
  {
   "cell_type": "code",
   "execution_count": 12,
   "metadata": {},
   "outputs": [
    {
     "data": {
      "text/html": [
       "<div>\n",
       "<style scoped>\n",
       "    .dataframe tbody tr th:only-of-type {\n",
       "        vertical-align: middle;\n",
       "    }\n",
       "\n",
       "    .dataframe tbody tr th {\n",
       "        vertical-align: top;\n",
       "    }\n",
       "\n",
       "    .dataframe thead th {\n",
       "        text-align: right;\n",
       "    }\n",
       "</style>\n",
       "<table border=\"1\" class=\"dataframe\">\n",
       "  <thead>\n",
       "    <tr style=\"text-align: right;\">\n",
       "      <th></th>\n",
       "      <th>Borough</th>\n",
       "      <th>Neighborhood</th>\n",
       "      <th>Latitude</th>\n",
       "      <th>Longitude</th>\n",
       "    </tr>\n",
       "  </thead>\n",
       "  <tbody>\n",
       "    <tr>\n",
       "      <th>0</th>\n",
       "      <td>Manhattan</td>\n",
       "      <td>Marble Hill</td>\n",
       "      <td>40.876551</td>\n",
       "      <td>-73.910660</td>\n",
       "    </tr>\n",
       "    <tr>\n",
       "      <th>1</th>\n",
       "      <td>Manhattan</td>\n",
       "      <td>Chinatown</td>\n",
       "      <td>40.715618</td>\n",
       "      <td>-73.994279</td>\n",
       "    </tr>\n",
       "    <tr>\n",
       "      <th>2</th>\n",
       "      <td>Manhattan</td>\n",
       "      <td>Washington Heights</td>\n",
       "      <td>40.851903</td>\n",
       "      <td>-73.936900</td>\n",
       "    </tr>\n",
       "    <tr>\n",
       "      <th>3</th>\n",
       "      <td>Manhattan</td>\n",
       "      <td>Inwood</td>\n",
       "      <td>40.867684</td>\n",
       "      <td>-73.921210</td>\n",
       "    </tr>\n",
       "    <tr>\n",
       "      <th>4</th>\n",
       "      <td>Manhattan</td>\n",
       "      <td>Hamilton Heights</td>\n",
       "      <td>40.823604</td>\n",
       "      <td>-73.949688</td>\n",
       "    </tr>\n",
       "  </tbody>\n",
       "</table>\n",
       "</div>"
      ],
      "text/plain": [
       "     Borough        Neighborhood   Latitude  Longitude\n",
       "0  Manhattan         Marble Hill  40.876551 -73.910660\n",
       "1  Manhattan           Chinatown  40.715618 -73.994279\n",
       "2  Manhattan  Washington Heights  40.851903 -73.936900\n",
       "3  Manhattan              Inwood  40.867684 -73.921210\n",
       "4  Manhattan    Hamilton Heights  40.823604 -73.949688"
      ]
     },
     "execution_count": 12,
     "metadata": {},
     "output_type": "execute_result"
    }
   ],
   "source": [
    "manhattan_data = neighborhoods[neighborhoods['Borough'] == 'Manhattan'].reset_index(drop=True)\n",
    "manhattan_data.head()"
   ]
  },
  {
   "cell_type": "markdown",
   "metadata": {},
   "source": [
    "Let's get the geographical coordinates of Manhattan."
   ]
  },
  {
   "cell_type": "code",
   "execution_count": 13,
   "metadata": {},
   "outputs": [
    {
     "name": "stdout",
     "output_type": "stream",
     "text": [
      "The geograpical coordinate of Manhattan are 40.7896239, -73.9598939.\n"
     ]
    }
   ],
   "source": [
    "address = 'Manhattan, NY'\n",
    "\n",
    "geolocator = Nominatim(user_agent=\"ny_explorer\")\n",
    "location = geolocator.geocode(address)\n",
    "latitude = location.latitude\n",
    "longitude = location.longitude\n",
    "print('The geograpical coordinate of Manhattan are {}, {}.'.format(latitude, longitude))"
   ]
  },
  {
   "cell_type": "markdown",
   "metadata": {},
   "source": [
    "As we did with all of New York City, let's visualize Manhattan the neighborhoods in it."
   ]
  },
  {
   "cell_type": "code",
   "execution_count": 14,
   "metadata": {},
   "outputs": [
    {
     "data": {
      "text/html": [
       "<div style=\"width:100%;\"><div style=\"position:relative;width:100%;height:0;padding-bottom:60%;\"><span style=\"color:#565656\">Make this Notebook Trusted to load map: File -> Trust Notebook</span><iframe src=\"about:blank\" style=\"position:absolute;width:100%;height:100%;left:0;top:0;border:none !important;\" data-html=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 onload=\"this.contentDocument.open();this.contentDocument.write(atob(this.getAttribute('data-html')));this.contentDocument.close();\" allowfullscreen webkitallowfullscreen mozallowfullscreen></iframe></div></div>"
      ],
      "text/plain": [
       "<folium.folium.Map at 0x7f6ceceb94a8>"
      ]
     },
     "execution_count": 14,
     "metadata": {},
     "output_type": "execute_result"
    }
   ],
   "source": [
    "# create map of Manhattan using latitude and longitude values\n",
    "map_manhattan = folium.Map(location=[latitude, longitude], zoom_start=11)\n",
    "\n",
    "# add markers to map\n",
    "for lat, lng, label in zip(manhattan_data['Latitude'], manhattan_data['Longitude'], manhattan_data['Neighborhood']):\n",
    "    label = folium.Popup(label, parse_html=True)\n",
    "    folium.CircleMarker(\n",
    "        [lat, lng],\n",
    "        radius=5,\n",
    "        popup=label,\n",
    "        color='blue',\n",
    "        fill=True,\n",
    "        fill_color='#3186cc',\n",
    "        fill_opacity=0.7,\n",
    "        parse_html=False).add_to(map_manhattan)  \n",
    "    \n",
    "map_manhattan"
   ]
  },
  {
   "cell_type": "markdown",
   "metadata": {},
   "source": [
    "Let us obtain the distance of each neighborhood from the center of Manhattan i.e. Central Park"
   ]
  },
  {
   "cell_type": "code",
   "execution_count": 57,
   "metadata": {},
   "outputs": [],
   "source": [
    "from geopy.distance import geodesic \n",
    "centre_nyc=[40.785091, -73.968285] #I have chosen Central Park as the centre of the city.\n",
    "list=[]\n",
    "for i in range(manhattan_data.shape[0]):\n",
    "    lat=manhattan_data.iloc[i][2]\n",
    "    long=manhattan_data.iloc[i][3]\n",
    "    list.append(geodesic((lat,long),centre_nyc).km) # Calculation of the distcance from the centre"
   ]
  },
  {
   "cell_type": "markdown",
   "metadata": {},
   "source": [
    "Lets append this list to our dataset"
   ]
  },
  {
   "cell_type": "code",
   "execution_count": 58,
   "metadata": {},
   "outputs": [],
   "source": [
    "manhattan_data['Distance from Centre']=list"
   ]
  },
  {
   "cell_type": "code",
   "execution_count": 59,
   "metadata": {},
   "outputs": [],
   "source": [
    "manhattan_data.sort_values(by='Distance from Centre',ascending=True,inplace=True)\n"
   ]
  },
  {
   "cell_type": "markdown",
   "metadata": {},
   "source": [
    "Lets remove the area that are at a distance greater than 5 kms from the center"
   ]
  },
  {
   "cell_type": "code",
   "execution_count": 60,
   "metadata": {},
   "outputs": [],
   "source": [
    "final_data=manhattan_data[manhattan_data['Distance from Centre']<=5] #Remove all area at a greater distance from the centre of NYC."
   ]
  },
  {
   "cell_type": "code",
   "execution_count": 64,
   "metadata": {},
   "outputs": [
    {
     "data": {
      "text/html": [
       "<div>\n",
       "<style scoped>\n",
       "    .dataframe tbody tr th:only-of-type {\n",
       "        vertical-align: middle;\n",
       "    }\n",
       "\n",
       "    .dataframe tbody tr th {\n",
       "        vertical-align: top;\n",
       "    }\n",
       "\n",
       "    .dataframe thead th {\n",
       "        text-align: right;\n",
       "    }\n",
       "</style>\n",
       "<table border=\"1\" class=\"dataframe\">\n",
       "  <thead>\n",
       "    <tr style=\"text-align: right;\">\n",
       "      <th></th>\n",
       "      <th>Borough</th>\n",
       "      <th>Neighborhood</th>\n",
       "      <th>Latitude</th>\n",
       "      <th>Longitude</th>\n",
       "      <th>Distance from Centre</th>\n",
       "    </tr>\n",
       "  </thead>\n",
       "  <tbody>\n",
       "    <tr>\n",
       "      <th>12</th>\n",
       "      <td>Manhattan</td>\n",
       "      <td>Upper West Side</td>\n",
       "      <td>40.787658</td>\n",
       "      <td>-73.977059</td>\n",
       "      <td>0.793568</td>\n",
       "    </tr>\n",
       "    <tr>\n",
       "      <th>8</th>\n",
       "      <td>Manhattan</td>\n",
       "      <td>Upper East Side</td>\n",
       "      <td>40.775639</td>\n",
       "      <td>-73.960508</td>\n",
       "      <td>1.238088</td>\n",
       "    </tr>\n",
       "    <tr>\n",
       "      <th>30</th>\n",
       "      <td>Manhattan</td>\n",
       "      <td>Carnegie Hill</td>\n",
       "      <td>40.782683</td>\n",
       "      <td>-73.953256</td>\n",
       "      <td>1.296437</td>\n",
       "    </tr>\n",
       "    <tr>\n",
       "      <th>25</th>\n",
       "      <td>Manhattan</td>\n",
       "      <td>Manhattan Valley</td>\n",
       "      <td>40.797307</td>\n",
       "      <td>-73.964286</td>\n",
       "      <td>1.397942</td>\n",
       "    </tr>\n",
       "    <tr>\n",
       "      <th>13</th>\n",
       "      <td>Manhattan</td>\n",
       "      <td>Lincoln Square</td>\n",
       "      <td>40.773529</td>\n",
       "      <td>-73.985338</td>\n",
       "      <td>1.928930</td>\n",
       "    </tr>\n",
       "  </tbody>\n",
       "</table>\n",
       "</div>"
      ],
      "text/plain": [
       "      Borough      Neighborhood   Latitude  Longitude  Distance from Centre\n",
       "12  Manhattan   Upper West Side  40.787658 -73.977059              0.793568\n",
       "8   Manhattan   Upper East Side  40.775639 -73.960508              1.238088\n",
       "30  Manhattan     Carnegie Hill  40.782683 -73.953256              1.296437\n",
       "25  Manhattan  Manhattan Valley  40.797307 -73.964286              1.397942\n",
       "13  Manhattan    Lincoln Square  40.773529 -73.985338              1.928930"
      ]
     },
     "execution_count": 64,
     "metadata": {},
     "output_type": "execute_result"
    }
   ],
   "source": [
    "final_data.head()"
   ]
  },
  {
   "cell_type": "markdown",
   "metadata": {},
   "source": [
    "Let us view the shortlisted neighborhoods "
   ]
  },
  {
   "cell_type": "code",
   "execution_count": 20,
   "metadata": {},
   "outputs": [
    {
     "data": {
      "text/html": [
       "<div style=\"width:100%;\"><div style=\"position:relative;width:100%;height:0;padding-bottom:60%;\"><span style=\"color:#565656\">Make this Notebook Trusted to load map: File -> Trust Notebook</span><iframe src=\"about:blank\" style=\"position:absolute;width:100%;height:100%;left:0;top:0;border:none !important;\" data-html=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 onload=\"this.contentDocument.open();this.contentDocument.write(atob(this.getAttribute('data-html')));this.contentDocument.close();\" allowfullscreen webkitallowfullscreen mozallowfullscreen></iframe></div></div>"
      ],
      "text/plain": [
       "<folium.folium.Map at 0x7f6cecd52390>"
      ]
     },
     "execution_count": 20,
     "metadata": {},
     "output_type": "execute_result"
    }
   ],
   "source": [
    "map_manhattan1 = folium.Map(location=[latitude, longitude], zoom_start=11)\n",
    "\n",
    "# add markers to map\n",
    "for lat, lng, label in zip(final_data['Latitude'], final_data['Longitude'], final_data['Neighborhood']):\n",
    "    label = folium.Popup(label, parse_html=True)\n",
    "    folium.CircleMarker(\n",
    "        [lat, lng],\n",
    "        radius=5,\n",
    "        popup=label,\n",
    "        color='blue',\n",
    "        fill=True,\n",
    "        fill_color='#3186cc',\n",
    "        fill_opacity=0.7,\n",
    "        parse_html=False).add_to(map_manhattan1)  \n",
    "    \n",
    "map_manhattan1"
   ]
  },
  {
   "cell_type": "markdown",
   "metadata": {},
   "source": [
    "Next, we are going to start utilizing the Foursquare API to explore the neighborhoods and segment them."
   ]
  },
  {
   "cell_type": "markdown",
   "metadata": {},
   "source": [
    "#### Define Foursquare Credentials and Version"
   ]
  },
  {
   "cell_type": "code",
   "execution_count": 30,
   "metadata": {},
   "outputs": [
    {
     "name": "stdout",
     "output_type": "stream",
     "text": [
      "Your credentails:\n",
      "CLIENT_ID: UVE2AXEQRFTQCRSIJ2DHOT3CFZRRB3AXVUYFFASA4XO0OEKQ\n",
      "CLIENT_SECRET:JKCMAZGWTTBLZXR04P5FLXLDDQHSFV0CAAL0FYQLGJZ4CBNG\n"
     ]
    }
   ],
   "source": [
    "CLIENT_ID = 'UVE2AXEQRFTQCRSIJ2DHOT3CFZRRB3AXVUYFFASA4XO0OEKQ' # your Foursquare ID\n",
    "CLIENT_SECRET = 'JKCMAZGWTTBLZXR04P5FLXLDDQHSFV0CAAL0FYQLGJZ4CBNG' # your Foursquare Secret\n",
    "VERSION = '20180605' # Foursquare API version\n",
    "\n",
    "print('Your credentails:')\n",
    "print('CLIENT_ID: ' + CLIENT_ID)\n",
    "print('CLIENT_SECRET:' + CLIENT_SECRET)"
   ]
  },
  {
   "cell_type": "code",
   "execution_count": 31,
   "metadata": {},
   "outputs": [],
   "source": [
    "LIMIT=100\n",
    "radius=500"
   ]
  },
  {
   "cell_type": "markdown",
   "metadata": {},
   "source": [
    "The function below gives the 100 nearest venues within 500m for each neighborhood"
   ]
  },
  {
   "cell_type": "code",
   "execution_count": 23,
   "metadata": {},
   "outputs": [],
   "source": [
    "def getNearbyVenues(names, latitudes, longitudes, radius=500):\n",
    "    \n",
    "    venues_list=[]\n",
    "    for name, lat, lng in zip(names, latitudes, longitudes):\n",
    "        print(name)\n",
    "            \n",
    "        # create the API request URL\n",
    "        url = 'https://api.foursquare.com/v2/venues/explore?&client_id={}&client_secret={}&v={}&ll={},{}&radius={}&limit={}'.format(\n",
    "            CLIENT_ID, \n",
    "            CLIENT_SECRET, \n",
    "            VERSION, \n",
    "            lat, \n",
    "            lng, \n",
    "            radius, \n",
    "            LIMIT)\n",
    "            \n",
    "        # make the GET request\n",
    "        results = requests.get(url).json()[\"response\"]['groups'][0]['items']\n",
    "        \n",
    "        # return only relevant information for each nearby venue\n",
    "        venues_list.append([(\n",
    "            name, \n",
    "            lat, \n",
    "            lng, \n",
    "            v['venue']['name'], \n",
    "            v['venue']['location']['lat'], \n",
    "            v['venue']['location']['lng'],  \n",
    "            v['venue']['categories'][0]['name']) for v in results])\n",
    "\n",
    "    nearby_venues = pd.DataFrame([item for venue_list in venues_list for item in venue_list])\n",
    "    nearby_venues.columns = ['Neighborhood', \n",
    "                  'Neighborhood Latitude', \n",
    "                  'Neighborhood Longitude', \n",
    "                  'Venue', \n",
    "                  'Venue Latitude', \n",
    "                  'Venue Longitude', \n",
    "                  'Venue Category']\n",
    "    \n",
    "    return(nearby_venues)"
   ]
  },
  {
   "cell_type": "code",
   "execution_count": 24,
   "metadata": {},
   "outputs": [
    {
     "name": "stdout",
     "output_type": "stream",
     "text": [
      "Upper West Side\n",
      "Upper East Side\n",
      "Carnegie Hill\n",
      "Manhattan Valley\n",
      "Lincoln Square\n",
      "Lenox Hill\n",
      "Yorkville\n",
      "East Harlem\n",
      "Morningside Heights\n",
      "Sutton Place\n",
      "Roosevelt Island\n",
      "Midtown\n",
      "Manhattanville\n",
      "Turtle Bay\n",
      "Clinton\n",
      "Central Harlem\n",
      "Hudson Yards\n",
      "Murray Hill\n",
      "Tudor City\n",
      "Midtown South\n",
      "Hamilton Heights\n"
     ]
    }
   ],
   "source": [
    "\n",
    "\n",
    "manhattan_venues = getNearbyVenues(names=final_data['Neighborhood'],\n",
    "                                   latitudes=final_data['Latitude'],\n",
    "                                   longitudes=final_data['Longitude']\n",
    "                                  )"
   ]
  },
  {
   "cell_type": "code",
   "execution_count": 32,
   "metadata": {},
   "outputs": [
    {
     "data": {
      "text/plain": [
       "(1502, 7)"
      ]
     },
     "execution_count": 32,
     "metadata": {},
     "output_type": "execute_result"
    }
   ],
   "source": [
    "manhattan_venues.shape"
   ]
  },
  {
   "cell_type": "code",
   "execution_count": 27,
   "metadata": {},
   "outputs": [
    {
     "name": "stdout",
     "output_type": "stream",
     "text": [
      "There are 248 uniques categories.\n"
     ]
    }
   ],
   "source": [
    "print('There are {} uniques categories.'.format(len(manhattan_venues['Venue Category'].unique())))"
   ]
  },
  {
   "cell_type": "markdown",
   "metadata": {},
   "source": [
    "## Analysis <a name=\"analysis\"></a>"
   ]
  },
  {
   "cell_type": "markdown",
   "metadata": {},
   "source": [
    "The first step is to get a count of the number of gyms in the vicinity of each neighborhood"
   ]
  },
  {
   "cell_type": "code",
   "execution_count": 35,
   "metadata": {},
   "outputs": [
    {
     "data": {
      "text/html": [
       "<div>\n",
       "<style scoped>\n",
       "    .dataframe tbody tr th:only-of-type {\n",
       "        vertical-align: middle;\n",
       "    }\n",
       "\n",
       "    .dataframe tbody tr th {\n",
       "        vertical-align: top;\n",
       "    }\n",
       "\n",
       "    .dataframe thead th {\n",
       "        text-align: right;\n",
       "    }\n",
       "</style>\n",
       "<table border=\"1\" class=\"dataframe\">\n",
       "  <thead>\n",
       "    <tr style=\"text-align: right;\">\n",
       "      <th></th>\n",
       "      <th>Gym</th>\n",
       "    </tr>\n",
       "    <tr>\n",
       "      <th>Neighborhood</th>\n",
       "      <th></th>\n",
       "    </tr>\n",
       "  </thead>\n",
       "  <tbody>\n",
       "    <tr>\n",
       "      <th>Yorkville</th>\n",
       "      <td>5</td>\n",
       "    </tr>\n",
       "    <tr>\n",
       "      <th>Clinton</th>\n",
       "      <td>4</td>\n",
       "    </tr>\n",
       "    <tr>\n",
       "      <th>Carnegie Hill</th>\n",
       "      <td>3</td>\n",
       "    </tr>\n",
       "    <tr>\n",
       "      <th>Lenox Hill</th>\n",
       "      <td>3</td>\n",
       "    </tr>\n",
       "    <tr>\n",
       "      <th>Hudson Yards</th>\n",
       "      <td>2</td>\n",
       "    </tr>\n",
       "    <tr>\n",
       "      <th>Lincoln Square</th>\n",
       "      <td>2</td>\n",
       "    </tr>\n",
       "    <tr>\n",
       "      <th>Midtown</th>\n",
       "      <td>2</td>\n",
       "    </tr>\n",
       "    <tr>\n",
       "      <th>Sutton Place</th>\n",
       "      <td>2</td>\n",
       "    </tr>\n",
       "    <tr>\n",
       "      <th>Tudor City</th>\n",
       "      <td>2</td>\n",
       "    </tr>\n",
       "    <tr>\n",
       "      <th>Central Harlem</th>\n",
       "      <td>1</td>\n",
       "    </tr>\n",
       "    <tr>\n",
       "      <th>East Harlem</th>\n",
       "      <td>1</td>\n",
       "    </tr>\n",
       "    <tr>\n",
       "      <th>Murray Hill</th>\n",
       "      <td>1</td>\n",
       "    </tr>\n",
       "    <tr>\n",
       "      <th>Roosevelt Island</th>\n",
       "      <td>1</td>\n",
       "    </tr>\n",
       "    <tr>\n",
       "      <th>Upper West Side</th>\n",
       "      <td>1</td>\n",
       "    </tr>\n",
       "  </tbody>\n",
       "</table>\n",
       "</div>"
      ],
      "text/plain": [
       "                  Gym\n",
       "Neighborhood         \n",
       "Yorkville           5\n",
       "Clinton             4\n",
       "Carnegie Hill       3\n",
       "Lenox Hill          3\n",
       "Hudson Yards        2\n",
       "Lincoln Square      2\n",
       "Midtown             2\n",
       "Sutton Place        2\n",
       "Tudor City          2\n",
       "Central Harlem      1\n",
       "East Harlem         1\n",
       "Murray Hill         1\n",
       "Roosevelt Island    1\n",
       "Upper West Side     1"
      ]
     },
     "execution_count": 35,
     "metadata": {},
     "output_type": "execute_result"
    }
   ],
   "source": [
    "# one hot encoding\n",
    "manhattan_onehot = pd.get_dummies(manhattan_venues[['Venue Category']], prefix=\"\", prefix_sep=\"\")\n",
    "\n",
    "# add neighborhood column back to dataframe\n",
    "manhattan_onehot['Neighborhood'] = manhattan_venues['Neighborhood'] \n",
    "\n",
    "x=manhattan_onehot[manhattan_onehot['Gym']>0]\n",
    "df=x.loc[:,['Gym','Neighborhood']]\n",
    "df.reset_index()\n",
    "y=df.groupby('Neighborhood').sum()\n",
    "y.sort_values(by='Gym',ascending=False,inplace=True)\n",
    "y"
   ]
  },
  {
   "cell_type": "markdown",
   "metadata": {},
   "source": [
    "#### Next, let's group rows by neighborhood and by taking the mean of the frequency of occurrence of each category"
   ]
  },
  {
   "cell_type": "markdown",
   "metadata": {},
   "source": [
    "#### Let's print each neighborhood along with the top 5 most common venues"
   ]
  },
  {
   "cell_type": "code",
   "execution_count": 36,
   "metadata": {},
   "outputs": [
    {
     "name": "stdout",
     "output_type": "stream",
     "text": [
      "----Carnegie Hill----\n",
      "                 venue  freq\n",
      "0          Coffee Shop  0.09\n",
      "1               Bakery  0.03\n",
      "2  Japanese Restaurant  0.03\n",
      "3        Grocery Store  0.03\n",
      "4                  Gym  0.03\n",
      "\n",
      "\n",
      "----Central Harlem----\n",
      "                 venue  freq\n",
      "0   African Restaurant  0.07\n",
      "1  American Restaurant  0.05\n",
      "2   Seafood Restaurant  0.05\n",
      "3   Chinese Restaurant  0.05\n",
      "4    French Restaurant  0.05\n",
      "\n",
      "\n",
      "----Clinton----\n",
      "                  venue  freq\n",
      "0               Theater  0.08\n",
      "1  Gym / Fitness Center  0.05\n",
      "2           Coffee Shop  0.05\n",
      "3             Wine Shop  0.04\n",
      "4                 Hotel  0.04\n",
      "\n",
      "\n",
      "----East Harlem----\n",
      "                       venue  freq\n",
      "0         Mexican Restaurant  0.14\n",
      "1                     Bakery  0.09\n",
      "2            Thai Restaurant  0.07\n",
      "3  Latin American Restaurant  0.05\n",
      "4              Deli / Bodega  0.05\n",
      "\n",
      "\n",
      "----Hamilton Heights----\n",
      "                venue  freq\n",
      "0         Pizza Place  0.10\n",
      "1       Deli / Bodega  0.07\n",
      "2         Coffee Shop  0.07\n",
      "3                Café  0.07\n",
      "4  Mexican Restaurant  0.05\n",
      "\n",
      "\n",
      "----Hudson Yards----\n",
      "                  venue  freq\n",
      "0   American Restaurant  0.06\n",
      "1                 Hotel  0.06\n",
      "2    Italian Restaurant  0.06\n",
      "3  Gym / Fitness Center  0.06\n",
      "4           Coffee Shop  0.04\n",
      "\n",
      "\n",
      "----Lenox Hill----\n",
      "                venue  freq\n",
      "0  Italian Restaurant  0.06\n",
      "1         Pizza Place  0.05\n",
      "2         Coffee Shop  0.05\n",
      "3                Café  0.04\n",
      "4    Sushi Restaurant  0.04\n",
      "\n",
      "\n",
      "----Lincoln Square----\n",
      "                   venue  freq\n",
      "0                   Café  0.06\n",
      "1                  Plaza  0.06\n",
      "2   Gym / Fitness Center  0.04\n",
      "3  Performing Arts Venue  0.04\n",
      "4                Theater  0.04\n",
      "\n",
      "\n",
      "----Manhattan Valley----\n",
      "                venue  freq\n",
      "0         Yoga Studio  0.05\n",
      "1                 Spa  0.05\n",
      "2  Mexican Restaurant  0.05\n",
      "3         Coffee Shop  0.05\n",
      "4         Pizza Place  0.05\n",
      "\n",
      "\n",
      "----Manhattanville----\n",
      "                venue  freq\n",
      "0  Seafood Restaurant  0.07\n",
      "1         Coffee Shop  0.07\n",
      "2                Park  0.05\n",
      "3  Italian Restaurant  0.05\n",
      "4  Mexican Restaurant  0.05\n",
      "\n",
      "\n",
      "----Midtown----\n",
      "            venue  freq\n",
      "0     Coffee Shop  0.06\n",
      "1           Hotel  0.05\n",
      "2  Clothing Store  0.05\n",
      "3         Theater  0.04\n",
      "4          Bakery  0.03\n",
      "\n",
      "\n",
      "----Midtown South----\n",
      "                 venue  freq\n",
      "0    Korean Restaurant  0.14\n",
      "1                Hotel  0.07\n",
      "2  Japanese Restaurant  0.06\n",
      "3         Burger Joint  0.05\n",
      "4               Lounge  0.03\n",
      "\n",
      "\n",
      "----Morningside Heights----\n",
      "                 venue  freq\n",
      "0                 Park  0.10\n",
      "1            Bookstore  0.08\n",
      "2          Coffee Shop  0.08\n",
      "3  American Restaurant  0.08\n",
      "4         Burger Joint  0.05\n",
      "\n",
      "\n",
      "----Murray Hill----\n",
      "            venue  freq\n",
      "0  Sandwich Place  0.07\n",
      "1     Coffee Shop  0.05\n",
      "2           Hotel  0.05\n",
      "3     Pizza Place  0.04\n",
      "4    Burger Joint  0.04\n",
      "\n",
      "\n",
      "----Roosevelt Island----\n",
      "           venue  freq\n",
      "0           Park  0.12\n",
      "1  Indie Theater  0.04\n",
      "2    Pizza Place  0.04\n",
      "3   Soccer Field  0.04\n",
      "4    Coffee Shop  0.04\n",
      "\n",
      "\n",
      "----Sutton Place----\n",
      "                  venue  freq\n",
      "0    Italian Restaurant  0.07\n",
      "1  Gym / Fitness Center  0.06\n",
      "2                  Park  0.04\n",
      "3           Coffee Shop  0.03\n",
      "4            Bagel Shop  0.03\n",
      "\n",
      "\n",
      "----Tudor City----\n",
      "                venue  freq\n",
      "0                Park  0.07\n",
      "1                Café  0.07\n",
      "2  Mexican Restaurant  0.05\n",
      "3         Pizza Place  0.04\n",
      "4       Deli / Bodega  0.04\n",
      "\n",
      "\n",
      "----Turtle Bay----\n",
      "                venue  freq\n",
      "0  Italian Restaurant  0.05\n",
      "1         Coffee Shop  0.04\n",
      "2       Deli / Bodega  0.04\n",
      "3            Wine Bar  0.04\n",
      "4                Café  0.04\n",
      "\n",
      "\n",
      "----Upper East Side----\n",
      "                  venue  freq\n",
      "0    Italian Restaurant  0.09\n",
      "1               Exhibit  0.05\n",
      "2             Juice Bar  0.05\n",
      "3  Gym / Fitness Center  0.05\n",
      "4                Bakery  0.05\n",
      "\n",
      "\n",
      "----Upper West Side----\n",
      "                venue  freq\n",
      "0  Italian Restaurant  0.07\n",
      "1         Coffee Shop  0.04\n",
      "2            Wine Bar  0.04\n",
      "3              Bakery  0.04\n",
      "4         Pizza Place  0.03\n",
      "\n",
      "\n",
      "----Yorkville----\n",
      "                venue  freq\n",
      "0         Coffee Shop  0.08\n",
      "1  Italian Restaurant  0.07\n",
      "2                 Gym  0.05\n",
      "3                 Bar  0.04\n",
      "4       Deli / Bodega  0.04\n",
      "\n",
      "\n"
     ]
    }
   ],
   "source": [
    "manhattan_grouped = manhattan_onehot.groupby('Neighborhood').mean().reset_index()\n",
    "num_top_venues = 5\n",
    "\n",
    "for hood in manhattan_grouped['Neighborhood']:\n",
    "    print(\"----\"+hood+\"----\")\n",
    "    temp = manhattan_grouped[manhattan_grouped['Neighborhood'] == hood].T.reset_index()\n",
    "    temp.columns = ['venue','freq']\n",
    "    temp = temp.iloc[1:]\n",
    "    temp['freq'] = temp['freq'].astype(float)\n",
    "    temp = temp.round({'freq': 2})\n",
    "    print(temp.sort_values('freq', ascending=False).reset_index(drop=True).head(num_top_venues))\n",
    "    print('\\n')\n"
   ]
  },
  {
   "cell_type": "markdown",
   "metadata": {},
   "source": [
    "#### Let's put that into a *pandas* dataframe"
   ]
  },
  {
   "cell_type": "markdown",
   "metadata": {},
   "source": [
    "First, let's write a function to sort the venues in descending order."
   ]
  },
  {
   "cell_type": "code",
   "execution_count": 42,
   "metadata": {},
   "outputs": [],
   "source": [
    "def return_most_common_venues(row, num_top_venues):\n",
    "    row_categories = row.iloc[1:]\n",
    "    row_categories_sorted = row_categories.sort_values(ascending=False)\n",
    "    \n",
    "    return row_categories_sorted.index.values[0:num_top_venues]"
   ]
  },
  {
   "cell_type": "markdown",
   "metadata": {},
   "source": [
    "Now let's create the new dataframe and display the top 5 venues for each neighborhood."
   ]
  },
  {
   "cell_type": "code",
   "execution_count": 79,
   "metadata": {},
   "outputs": [
    {
     "data": {
      "text/html": [
       "<div>\n",
       "<style scoped>\n",
       "    .dataframe tbody tr th:only-of-type {\n",
       "        vertical-align: middle;\n",
       "    }\n",
       "\n",
       "    .dataframe tbody tr th {\n",
       "        vertical-align: top;\n",
       "    }\n",
       "\n",
       "    .dataframe thead th {\n",
       "        text-align: right;\n",
       "    }\n",
       "</style>\n",
       "<table border=\"1\" class=\"dataframe\">\n",
       "  <thead>\n",
       "    <tr style=\"text-align: right;\">\n",
       "      <th></th>\n",
       "      <th>Neighborhood</th>\n",
       "      <th>1st Most Common Venue</th>\n",
       "      <th>2nd Most Common Venue</th>\n",
       "      <th>3rd Most Common Venue</th>\n",
       "      <th>4th Most Common Venue</th>\n",
       "      <th>5th Most Common Venue</th>\n",
       "    </tr>\n",
       "  </thead>\n",
       "  <tbody>\n",
       "    <tr>\n",
       "      <th>0</th>\n",
       "      <td>Carnegie Hill</td>\n",
       "      <td>Coffee Shop</td>\n",
       "      <td>Yoga Studio</td>\n",
       "      <td>Bakery</td>\n",
       "      <td>Bookstore</td>\n",
       "      <td>Grocery Store</td>\n",
       "    </tr>\n",
       "    <tr>\n",
       "      <th>1</th>\n",
       "      <td>Central Harlem</td>\n",
       "      <td>African Restaurant</td>\n",
       "      <td>Cosmetics Shop</td>\n",
       "      <td>Bar</td>\n",
       "      <td>Seafood Restaurant</td>\n",
       "      <td>French Restaurant</td>\n",
       "    </tr>\n",
       "    <tr>\n",
       "      <th>2</th>\n",
       "      <td>Clinton</td>\n",
       "      <td>Theater</td>\n",
       "      <td>Gym / Fitness Center</td>\n",
       "      <td>Coffee Shop</td>\n",
       "      <td>Gym</td>\n",
       "      <td>Wine Shop</td>\n",
       "    </tr>\n",
       "    <tr>\n",
       "      <th>3</th>\n",
       "      <td>East Harlem</td>\n",
       "      <td>Mexican Restaurant</td>\n",
       "      <td>Bakery</td>\n",
       "      <td>Thai Restaurant</td>\n",
       "      <td>Latin American Restaurant</td>\n",
       "      <td>Deli / Bodega</td>\n",
       "    </tr>\n",
       "    <tr>\n",
       "      <th>4</th>\n",
       "      <td>Hamilton Heights</td>\n",
       "      <td>Pizza Place</td>\n",
       "      <td>Café</td>\n",
       "      <td>Deli / Bodega</td>\n",
       "      <td>Coffee Shop</td>\n",
       "      <td>Mexican Restaurant</td>\n",
       "    </tr>\n",
       "    <tr>\n",
       "      <th>5</th>\n",
       "      <td>Hudson Yards</td>\n",
       "      <td>Italian Restaurant</td>\n",
       "      <td>Gym / Fitness Center</td>\n",
       "      <td>American Restaurant</td>\n",
       "      <td>Hotel</td>\n",
       "      <td>Park</td>\n",
       "    </tr>\n",
       "    <tr>\n",
       "      <th>6</th>\n",
       "      <td>Lenox Hill</td>\n",
       "      <td>Italian Restaurant</td>\n",
       "      <td>Pizza Place</td>\n",
       "      <td>Coffee Shop</td>\n",
       "      <td>Sushi Restaurant</td>\n",
       "      <td>Cocktail Bar</td>\n",
       "    </tr>\n",
       "    <tr>\n",
       "      <th>7</th>\n",
       "      <td>Lincoln Square</td>\n",
       "      <td>Café</td>\n",
       "      <td>Plaza</td>\n",
       "      <td>Gym / Fitness Center</td>\n",
       "      <td>Theater</td>\n",
       "      <td>Concert Hall</td>\n",
       "    </tr>\n",
       "    <tr>\n",
       "      <th>8</th>\n",
       "      <td>Manhattan Valley</td>\n",
       "      <td>Yoga Studio</td>\n",
       "      <td>Bar</td>\n",
       "      <td>Coffee Shop</td>\n",
       "      <td>Spa</td>\n",
       "      <td>Pizza Place</td>\n",
       "    </tr>\n",
       "    <tr>\n",
       "      <th>9</th>\n",
       "      <td>Manhattanville</td>\n",
       "      <td>Coffee Shop</td>\n",
       "      <td>Seafood Restaurant</td>\n",
       "      <td>Italian Restaurant</td>\n",
       "      <td>Park</td>\n",
       "      <td>Mexican Restaurant</td>\n",
       "    </tr>\n",
       "    <tr>\n",
       "      <th>10</th>\n",
       "      <td>Midtown</td>\n",
       "      <td>Coffee Shop</td>\n",
       "      <td>Clothing Store</td>\n",
       "      <td>Hotel</td>\n",
       "      <td>Theater</td>\n",
       "      <td>Bakery</td>\n",
       "    </tr>\n",
       "    <tr>\n",
       "      <th>11</th>\n",
       "      <td>Midtown South</td>\n",
       "      <td>Korean Restaurant</td>\n",
       "      <td>Hotel</td>\n",
       "      <td>Japanese Restaurant</td>\n",
       "      <td>Burger Joint</td>\n",
       "      <td>Café</td>\n",
       "    </tr>\n",
       "    <tr>\n",
       "      <th>12</th>\n",
       "      <td>Morningside Heights</td>\n",
       "      <td>Park</td>\n",
       "      <td>American Restaurant</td>\n",
       "      <td>Coffee Shop</td>\n",
       "      <td>Bookstore</td>\n",
       "      <td>Tennis Court</td>\n",
       "    </tr>\n",
       "    <tr>\n",
       "      <th>13</th>\n",
       "      <td>Murray Hill</td>\n",
       "      <td>Sandwich Place</td>\n",
       "      <td>Hotel</td>\n",
       "      <td>Coffee Shop</td>\n",
       "      <td>Pizza Place</td>\n",
       "      <td>Burger Joint</td>\n",
       "    </tr>\n",
       "    <tr>\n",
       "      <th>14</th>\n",
       "      <td>Roosevelt Island</td>\n",
       "      <td>Park</td>\n",
       "      <td>Pizza Place</td>\n",
       "      <td>Gym</td>\n",
       "      <td>Bubble Tea Shop</td>\n",
       "      <td>Dry Cleaner</td>\n",
       "    </tr>\n",
       "    <tr>\n",
       "      <th>15</th>\n",
       "      <td>Sutton Place</td>\n",
       "      <td>Italian Restaurant</td>\n",
       "      <td>Gym / Fitness Center</td>\n",
       "      <td>Park</td>\n",
       "      <td>Bagel Shop</td>\n",
       "      <td>Coffee Shop</td>\n",
       "    </tr>\n",
       "    <tr>\n",
       "      <th>16</th>\n",
       "      <td>Tudor City</td>\n",
       "      <td>Café</td>\n",
       "      <td>Park</td>\n",
       "      <td>Mexican Restaurant</td>\n",
       "      <td>Pizza Place</td>\n",
       "      <td>Deli / Bodega</td>\n",
       "    </tr>\n",
       "    <tr>\n",
       "      <th>17</th>\n",
       "      <td>Turtle Bay</td>\n",
       "      <td>Italian Restaurant</td>\n",
       "      <td>Wine Bar</td>\n",
       "      <td>Coffee Shop</td>\n",
       "      <td>Park</td>\n",
       "      <td>Deli / Bodega</td>\n",
       "    </tr>\n",
       "    <tr>\n",
       "      <th>18</th>\n",
       "      <td>Upper East Side</td>\n",
       "      <td>Italian Restaurant</td>\n",
       "      <td>Bakery</td>\n",
       "      <td>Gym / Fitness Center</td>\n",
       "      <td>Juice Bar</td>\n",
       "      <td>Exhibit</td>\n",
       "    </tr>\n",
       "    <tr>\n",
       "      <th>19</th>\n",
       "      <td>Upper West Side</td>\n",
       "      <td>Italian Restaurant</td>\n",
       "      <td>Wine Bar</td>\n",
       "      <td>Bakery</td>\n",
       "      <td>Coffee Shop</td>\n",
       "      <td>Pizza Place</td>\n",
       "    </tr>\n",
       "    <tr>\n",
       "      <th>20</th>\n",
       "      <td>Yorkville</td>\n",
       "      <td>Coffee Shop</td>\n",
       "      <td>Italian Restaurant</td>\n",
       "      <td>Gym</td>\n",
       "      <td>Deli / Bodega</td>\n",
       "      <td>Bar</td>\n",
       "    </tr>\n",
       "  </tbody>\n",
       "</table>\n",
       "</div>"
      ],
      "text/plain": [
       "           Neighborhood 1st Most Common Venue 2nd Most Common Venue  \\\n",
       "0         Carnegie Hill           Coffee Shop           Yoga Studio   \n",
       "1        Central Harlem    African Restaurant        Cosmetics Shop   \n",
       "2               Clinton               Theater  Gym / Fitness Center   \n",
       "3           East Harlem    Mexican Restaurant                Bakery   \n",
       "4      Hamilton Heights           Pizza Place                  Café   \n",
       "5          Hudson Yards    Italian Restaurant  Gym / Fitness Center   \n",
       "6            Lenox Hill    Italian Restaurant           Pizza Place   \n",
       "7        Lincoln Square                  Café                 Plaza   \n",
       "8      Manhattan Valley           Yoga Studio                   Bar   \n",
       "9        Manhattanville           Coffee Shop    Seafood Restaurant   \n",
       "10              Midtown           Coffee Shop        Clothing Store   \n",
       "11        Midtown South     Korean Restaurant                 Hotel   \n",
       "12  Morningside Heights                  Park   American Restaurant   \n",
       "13          Murray Hill        Sandwich Place                 Hotel   \n",
       "14     Roosevelt Island                  Park           Pizza Place   \n",
       "15         Sutton Place    Italian Restaurant  Gym / Fitness Center   \n",
       "16           Tudor City                  Café                  Park   \n",
       "17           Turtle Bay    Italian Restaurant              Wine Bar   \n",
       "18      Upper East Side    Italian Restaurant                Bakery   \n",
       "19      Upper West Side    Italian Restaurant              Wine Bar   \n",
       "20            Yorkville           Coffee Shop    Italian Restaurant   \n",
       "\n",
       "   3rd Most Common Venue      4th Most Common Venue 5th Most Common Venue  \n",
       "0                 Bakery                  Bookstore         Grocery Store  \n",
       "1                    Bar         Seafood Restaurant     French Restaurant  \n",
       "2            Coffee Shop                        Gym             Wine Shop  \n",
       "3        Thai Restaurant  Latin American Restaurant         Deli / Bodega  \n",
       "4          Deli / Bodega                Coffee Shop    Mexican Restaurant  \n",
       "5    American Restaurant                      Hotel                  Park  \n",
       "6            Coffee Shop           Sushi Restaurant          Cocktail Bar  \n",
       "7   Gym / Fitness Center                    Theater          Concert Hall  \n",
       "8            Coffee Shop                        Spa           Pizza Place  \n",
       "9     Italian Restaurant                       Park    Mexican Restaurant  \n",
       "10                 Hotel                    Theater                Bakery  \n",
       "11   Japanese Restaurant               Burger Joint                  Café  \n",
       "12           Coffee Shop                  Bookstore          Tennis Court  \n",
       "13           Coffee Shop                Pizza Place          Burger Joint  \n",
       "14                   Gym            Bubble Tea Shop           Dry Cleaner  \n",
       "15                  Park                 Bagel Shop           Coffee Shop  \n",
       "16    Mexican Restaurant                Pizza Place         Deli / Bodega  \n",
       "17           Coffee Shop                       Park         Deli / Bodega  \n",
       "18  Gym / Fitness Center                  Juice Bar               Exhibit  \n",
       "19                Bakery                Coffee Shop           Pizza Place  \n",
       "20                   Gym              Deli / Bodega                   Bar  "
      ]
     },
     "execution_count": 79,
     "metadata": {},
     "output_type": "execute_result"
    }
   ],
   "source": [
    "num_top_venues = 5\n",
    "\n",
    "indicators = ['st', 'nd', 'rd']\n",
    "\n",
    "# create columns according to number of top venues\n",
    "columns = ['Neighborhood']\n",
    "for ind in np.arange(num_top_venues):\n",
    "    try:\n",
    "        columns.append('{}{} Most Common Venue'.format(ind+1, indicators[ind]))\n",
    "    except:\n",
    "        columns.append('{}th Most Common Venue'.format(ind+1))\n",
    "\n",
    "# create a new dataframe\n",
    "neighborhoods_venues_sorted = pd.DataFrame(columns=columns)\n",
    "neighborhoods_venues_sorted['Neighborhood'] = manhattan_grouped['Neighborhood']\n",
    "\n",
    "for ind in np.arange(manhattan_grouped.shape[0]):\n",
    "    neighborhoods_venues_sorted.iloc[ind, 1:] = return_most_common_venues(manhattan_grouped.iloc[ind, :], num_top_venues)\n",
    "\n",
    "neighborhoods_venues_sorted"
   ]
  },
  {
   "cell_type": "code",
   "execution_count": 65,
   "metadata": {},
   "outputs": [],
   "source": [
    "final_data.set_index('Neighborhood',inplace=True)"
   ]
  },
  {
   "cell_type": "markdown",
   "metadata": {},
   "source": [
    "Lets append the data of the count of gyms to the original dataset"
   ]
  },
  {
   "cell_type": "code",
   "execution_count": 66,
   "metadata": {},
   "outputs": [],
   "source": [
    "gym_count=y['Gym']\n",
    "z=pd.concat([final_data,y],axis=1,join='outer')\n",
    "z.reset_index(inplace=True)"
   ]
  },
  {
   "cell_type": "code",
   "execution_count": 67,
   "metadata": {},
   "outputs": [
    {
     "data": {
      "text/html": [
       "<div>\n",
       "<style scoped>\n",
       "    .dataframe tbody tr th:only-of-type {\n",
       "        vertical-align: middle;\n",
       "    }\n",
       "\n",
       "    .dataframe tbody tr th {\n",
       "        vertical-align: top;\n",
       "    }\n",
       "\n",
       "    .dataframe thead th {\n",
       "        text-align: right;\n",
       "    }\n",
       "</style>\n",
       "<table border=\"1\" class=\"dataframe\">\n",
       "  <thead>\n",
       "    <tr style=\"text-align: right;\">\n",
       "      <th></th>\n",
       "      <th>index</th>\n",
       "      <th>Borough</th>\n",
       "      <th>Latitude</th>\n",
       "      <th>Longitude</th>\n",
       "      <th>Distance from Centre</th>\n",
       "      <th>Gym</th>\n",
       "    </tr>\n",
       "  </thead>\n",
       "  <tbody>\n",
       "    <tr>\n",
       "      <th>0</th>\n",
       "      <td>Upper West Side</td>\n",
       "      <td>Manhattan</td>\n",
       "      <td>40.787658</td>\n",
       "      <td>-73.977059</td>\n",
       "      <td>0.793568</td>\n",
       "      <td>1.0</td>\n",
       "    </tr>\n",
       "    <tr>\n",
       "      <th>1</th>\n",
       "      <td>Upper East Side</td>\n",
       "      <td>Manhattan</td>\n",
       "      <td>40.775639</td>\n",
       "      <td>-73.960508</td>\n",
       "      <td>1.238088</td>\n",
       "      <td>0.0</td>\n",
       "    </tr>\n",
       "    <tr>\n",
       "      <th>2</th>\n",
       "      <td>Carnegie Hill</td>\n",
       "      <td>Manhattan</td>\n",
       "      <td>40.782683</td>\n",
       "      <td>-73.953256</td>\n",
       "      <td>1.296437</td>\n",
       "      <td>3.0</td>\n",
       "    </tr>\n",
       "    <tr>\n",
       "      <th>3</th>\n",
       "      <td>Manhattan Valley</td>\n",
       "      <td>Manhattan</td>\n",
       "      <td>40.797307</td>\n",
       "      <td>-73.964286</td>\n",
       "      <td>1.397942</td>\n",
       "      <td>0.0</td>\n",
       "    </tr>\n",
       "    <tr>\n",
       "      <th>4</th>\n",
       "      <td>Lincoln Square</td>\n",
       "      <td>Manhattan</td>\n",
       "      <td>40.773529</td>\n",
       "      <td>-73.985338</td>\n",
       "      <td>1.928930</td>\n",
       "      <td>2.0</td>\n",
       "    </tr>\n",
       "    <tr>\n",
       "      <th>5</th>\n",
       "      <td>Lenox Hill</td>\n",
       "      <td>Manhattan</td>\n",
       "      <td>40.768113</td>\n",
       "      <td>-73.958860</td>\n",
       "      <td>2.046453</td>\n",
       "      <td>3.0</td>\n",
       "    </tr>\n",
       "    <tr>\n",
       "      <th>6</th>\n",
       "      <td>Yorkville</td>\n",
       "      <td>Manhattan</td>\n",
       "      <td>40.775930</td>\n",
       "      <td>-73.947118</td>\n",
       "      <td>2.056120</td>\n",
       "      <td>5.0</td>\n",
       "    </tr>\n",
       "    <tr>\n",
       "      <th>7</th>\n",
       "      <td>East Harlem</td>\n",
       "      <td>Manhattan</td>\n",
       "      <td>40.792249</td>\n",
       "      <td>-73.944182</td>\n",
       "      <td>2.184156</td>\n",
       "      <td>1.0</td>\n",
       "    </tr>\n",
       "    <tr>\n",
       "      <th>8</th>\n",
       "      <td>Morningside Heights</td>\n",
       "      <td>Manhattan</td>\n",
       "      <td>40.808000</td>\n",
       "      <td>-73.963896</td>\n",
       "      <td>2.570835</td>\n",
       "      <td>0.0</td>\n",
       "    </tr>\n",
       "    <tr>\n",
       "      <th>9</th>\n",
       "      <td>Sutton Place</td>\n",
       "      <td>Manhattan</td>\n",
       "      <td>40.760280</td>\n",
       "      <td>-73.963556</td>\n",
       "      <td>2.783986</td>\n",
       "      <td>2.0</td>\n",
       "    </tr>\n",
       "    <tr>\n",
       "      <th>10</th>\n",
       "      <td>Roosevelt Island</td>\n",
       "      <td>Manhattan</td>\n",
       "      <td>40.762160</td>\n",
       "      <td>-73.949168</td>\n",
       "      <td>3.014885</td>\n",
       "      <td>1.0</td>\n",
       "    </tr>\n",
       "    <tr>\n",
       "      <th>11</th>\n",
       "      <td>Midtown</td>\n",
       "      <td>Manhattan</td>\n",
       "      <td>40.754691</td>\n",
       "      <td>-73.981669</td>\n",
       "      <td>3.559979</td>\n",
       "      <td>2.0</td>\n",
       "    </tr>\n",
       "    <tr>\n",
       "      <th>12</th>\n",
       "      <td>Manhattanville</td>\n",
       "      <td>Manhattan</td>\n",
       "      <td>40.816934</td>\n",
       "      <td>-73.957385</td>\n",
       "      <td>3.653879</td>\n",
       "      <td>0.0</td>\n",
       "    </tr>\n",
       "    <tr>\n",
       "      <th>13</th>\n",
       "      <td>Turtle Bay</td>\n",
       "      <td>Manhattan</td>\n",
       "      <td>40.752042</td>\n",
       "      <td>-73.967708</td>\n",
       "      <td>3.670355</td>\n",
       "      <td>0.0</td>\n",
       "    </tr>\n",
       "    <tr>\n",
       "      <th>14</th>\n",
       "      <td>Clinton</td>\n",
       "      <td>Manhattan</td>\n",
       "      <td>40.759101</td>\n",
       "      <td>-73.996119</td>\n",
       "      <td>3.721841</td>\n",
       "      <td>4.0</td>\n",
       "    </tr>\n",
       "    <tr>\n",
       "      <th>15</th>\n",
       "      <td>Central Harlem</td>\n",
       "      <td>Manhattan</td>\n",
       "      <td>40.815976</td>\n",
       "      <td>-73.943211</td>\n",
       "      <td>4.029970</td>\n",
       "      <td>1.0</td>\n",
       "    </tr>\n",
       "    <tr>\n",
       "      <th>16</th>\n",
       "      <td>Hudson Yards</td>\n",
       "      <td>Manhattan</td>\n",
       "      <td>40.756658</td>\n",
       "      <td>-74.000111</td>\n",
       "      <td>4.146005</td>\n",
       "      <td>2.0</td>\n",
       "    </tr>\n",
       "    <tr>\n",
       "      <th>17</th>\n",
       "      <td>Murray Hill</td>\n",
       "      <td>Manhattan</td>\n",
       "      <td>40.748303</td>\n",
       "      <td>-73.978332</td>\n",
       "      <td>4.172419</td>\n",
       "      <td>1.0</td>\n",
       "    </tr>\n",
       "    <tr>\n",
       "      <th>18</th>\n",
       "      <td>Tudor City</td>\n",
       "      <td>Manhattan</td>\n",
       "      <td>40.746917</td>\n",
       "      <td>-73.971219</td>\n",
       "      <td>4.246387</td>\n",
       "      <td>2.0</td>\n",
       "    </tr>\n",
       "    <tr>\n",
       "      <th>19</th>\n",
       "      <td>Midtown South</td>\n",
       "      <td>Manhattan</td>\n",
       "      <td>40.748510</td>\n",
       "      <td>-73.988713</td>\n",
       "      <td>4.413320</td>\n",
       "      <td>0.0</td>\n",
       "    </tr>\n",
       "    <tr>\n",
       "      <th>20</th>\n",
       "      <td>Hamilton Heights</td>\n",
       "      <td>Manhattan</td>\n",
       "      <td>40.823604</td>\n",
       "      <td>-73.949688</td>\n",
       "      <td>4.555719</td>\n",
       "      <td>0.0</td>\n",
       "    </tr>\n",
       "  </tbody>\n",
       "</table>\n",
       "</div>"
      ],
      "text/plain": [
       "                  index    Borough   Latitude  Longitude  \\\n",
       "0       Upper West Side  Manhattan  40.787658 -73.977059   \n",
       "1       Upper East Side  Manhattan  40.775639 -73.960508   \n",
       "2         Carnegie Hill  Manhattan  40.782683 -73.953256   \n",
       "3      Manhattan Valley  Manhattan  40.797307 -73.964286   \n",
       "4        Lincoln Square  Manhattan  40.773529 -73.985338   \n",
       "5            Lenox Hill  Manhattan  40.768113 -73.958860   \n",
       "6             Yorkville  Manhattan  40.775930 -73.947118   \n",
       "7           East Harlem  Manhattan  40.792249 -73.944182   \n",
       "8   Morningside Heights  Manhattan  40.808000 -73.963896   \n",
       "9          Sutton Place  Manhattan  40.760280 -73.963556   \n",
       "10     Roosevelt Island  Manhattan  40.762160 -73.949168   \n",
       "11              Midtown  Manhattan  40.754691 -73.981669   \n",
       "12       Manhattanville  Manhattan  40.816934 -73.957385   \n",
       "13           Turtle Bay  Manhattan  40.752042 -73.967708   \n",
       "14              Clinton  Manhattan  40.759101 -73.996119   \n",
       "15       Central Harlem  Manhattan  40.815976 -73.943211   \n",
       "16         Hudson Yards  Manhattan  40.756658 -74.000111   \n",
       "17          Murray Hill  Manhattan  40.748303 -73.978332   \n",
       "18           Tudor City  Manhattan  40.746917 -73.971219   \n",
       "19        Midtown South  Manhattan  40.748510 -73.988713   \n",
       "20     Hamilton Heights  Manhattan  40.823604 -73.949688   \n",
       "\n",
       "    Distance from Centre  Gym  \n",
       "0               0.793568  1.0  \n",
       "1               1.238088  0.0  \n",
       "2               1.296437  3.0  \n",
       "3               1.397942  0.0  \n",
       "4               1.928930  2.0  \n",
       "5               2.046453  3.0  \n",
       "6               2.056120  5.0  \n",
       "7               2.184156  1.0  \n",
       "8               2.570835  0.0  \n",
       "9               2.783986  2.0  \n",
       "10              3.014885  1.0  \n",
       "11              3.559979  2.0  \n",
       "12              3.653879  0.0  \n",
       "13              3.670355  0.0  \n",
       "14              3.721841  4.0  \n",
       "15              4.029970  1.0  \n",
       "16              4.146005  2.0  \n",
       "17              4.172419  1.0  \n",
       "18              4.246387  2.0  \n",
       "19              4.413320  0.0  \n",
       "20              4.555719  0.0  "
      ]
     },
     "execution_count": 67,
     "metadata": {},
     "output_type": "execute_result"
    }
   ],
   "source": [
    "z['Gym']=z['Gym'].fillna(0)\n",
    "z"
   ]
  },
  {
   "cell_type": "markdown",
   "metadata": {},
   "source": [
    "##  Cluster Neighborhoods"
   ]
  },
  {
   "cell_type": "markdown",
   "metadata": {},
   "source": [
    "Run *k*-means to cluster the neighborhood into 5 clusters."
   ]
  },
  {
   "cell_type": "code",
   "execution_count": 68,
   "metadata": {},
   "outputs": [
    {
     "data": {
      "text/plain": [
       "array([2, 2, 4, 2, 4, 4, 1, 2, 2, 4], dtype=int32)"
      ]
     },
     "execution_count": 68,
     "metadata": {},
     "output_type": "execute_result"
    }
   ],
   "source": [
    "kclusters = 5\n",
    "\n",
    "manhattan_grouped_clustering = z.drop(['index','Borough'], 1)\n",
    "\n",
    "# run k-means clustering\n",
    "kmeans = KMeans(n_clusters=kclusters, random_state=0).fit(manhattan_grouped_clustering)\n",
    "\n",
    "# check cluster labels generated for each row in the dataframe\n",
    "kmeans.labels_[0:10] \n"
   ]
  },
  {
   "cell_type": "markdown",
   "metadata": {},
   "source": [
    "Let's add the cluster values to the new dataframe"
   ]
  },
  {
   "cell_type": "code",
   "execution_count": 71,
   "metadata": {},
   "outputs": [
    {
     
     "traceback": [
      "\u001b[0;31m---------------------------------------------------------------------------\u001b[0m",
      "\u001b[0;31mValueError\u001b[0m                                Traceback (most recent call last)",
      "\u001b[0;32m<ipython-input-71-2b2441fe5a7b>\u001b[0m in \u001b[0;36m<module>\u001b[0;34m\u001b[0m\n\u001b[0;32m----> 1\u001b[0;31m \u001b[0mz\u001b[0m\u001b[0;34m.\u001b[0m\u001b[0minsert\u001b[0m\u001b[0;34m(\u001b[0m\u001b[0;36m0\u001b[0m\u001b[0;34m,\u001b[0m \u001b[0;34m'Cluster Labels'\u001b[0m\u001b[0;34m,\u001b[0m \u001b[0mkmeans\u001b[0m\u001b[0;34m.\u001b[0m\u001b[0mlabels_\u001b[0m\u001b[0;34m)\u001b[0m\u001b[0;34m\u001b[0m\u001b[0;34m\u001b[0m\u001b[0m\n\u001b[0m\u001b[1;32m      2\u001b[0m \u001b[0;34m\u001b[0m\u001b[0m\n",
      "\u001b[0;32m~/conda/envs/python/lib/python3.6/site-packages/pandas/core/frame.py\u001b[0m in \u001b[0;36minsert\u001b[0;34m(self, loc, column, value, allow_duplicates)\u001b[0m\n\u001b[1;32m   3494\u001b[0m         \u001b[0mself\u001b[0m\u001b[0;34m.\u001b[0m\u001b[0m_ensure_valid_index\u001b[0m\u001b[0;34m(\u001b[0m\u001b[0mvalue\u001b[0m\u001b[0;34m)\u001b[0m\u001b[0;34m\u001b[0m\u001b[0;34m\u001b[0m\u001b[0m\n\u001b[1;32m   3495\u001b[0m         \u001b[0mvalue\u001b[0m \u001b[0;34m=\u001b[0m \u001b[0mself\u001b[0m\u001b[0;34m.\u001b[0m\u001b[0m_sanitize_column\u001b[0m\u001b[0;34m(\u001b[0m\u001b[0mcolumn\u001b[0m\u001b[0;34m,\u001b[0m \u001b[0mvalue\u001b[0m\u001b[0;34m,\u001b[0m \u001b[0mbroadcast\u001b[0m\u001b[0;34m=\u001b[0m\u001b[0;32mFalse\u001b[0m\u001b[0;34m)\u001b[0m\u001b[0;34m\u001b[0m\u001b[0;34m\u001b[0m\u001b[0m\n\u001b[0;32m-> 3496\u001b[0;31m         \u001b[0mself\u001b[0m\u001b[0;34m.\u001b[0m\u001b[0m_data\u001b[0m\u001b[0;34m.\u001b[0m\u001b[0minsert\u001b[0m\u001b[0;34m(\u001b[0m\u001b[0mloc\u001b[0m\u001b[0;34m,\u001b[0m \u001b[0mcolumn\u001b[0m\u001b[0;34m,\u001b[0m \u001b[0mvalue\u001b[0m\u001b[0;34m,\u001b[0m \u001b[0mallow_duplicates\u001b[0m\u001b[0;34m=\u001b[0m\u001b[0mallow_duplicates\u001b[0m\u001b[0;34m)\u001b[0m\u001b[0;34m\u001b[0m\u001b[0;34m\u001b[0m\u001b[0m\n\u001b[0m\u001b[1;32m   3497\u001b[0m \u001b[0;34m\u001b[0m\u001b[0m\n\u001b[1;32m   3498\u001b[0m     \u001b[0;32mdef\u001b[0m \u001b[0massign\u001b[0m\u001b[0;34m(\u001b[0m\u001b[0mself\u001b[0m\u001b[0;34m,\u001b[0m \u001b[0;34m**\u001b[0m\u001b[0mkwargs\u001b[0m\u001b[0;34m)\u001b[0m \u001b[0;34m->\u001b[0m \u001b[0;34m\"DataFrame\"\u001b[0m\u001b[0;34m:\u001b[0m\u001b[0;34m\u001b[0m\u001b[0;34m\u001b[0m\u001b[0m\n",
      "\u001b[0;32m~/conda/envs/python/lib/python3.6/site-packages/pandas/core/internals/managers.py\u001b[0m in \u001b[0;36minsert\u001b[0;34m(self, loc, item, value, allow_duplicates)\u001b[0m\n\u001b[1;32m   1171\u001b[0m         \u001b[0;32mif\u001b[0m \u001b[0;32mnot\u001b[0m \u001b[0mallow_duplicates\u001b[0m \u001b[0;32mand\u001b[0m \u001b[0mitem\u001b[0m \u001b[0;32min\u001b[0m \u001b[0mself\u001b[0m\u001b[0;34m.\u001b[0m\u001b[0mitems\u001b[0m\u001b[0;34m:\u001b[0m\u001b[0;34m\u001b[0m\u001b[0;34m\u001b[0m\u001b[0m\n\u001b[1;32m   1172\u001b[0m             \u001b[0;31m# Should this be a different kind of error??\u001b[0m\u001b[0;34m\u001b[0m\u001b[0;34m\u001b[0m\u001b[0;34m\u001b[0m\u001b[0m\n\u001b[0;32m-> 1173\u001b[0;31m             \u001b[0;32mraise\u001b[0m \u001b[0mValueError\u001b[0m\u001b[0;34m(\u001b[0m\u001b[0;34mf\"cannot insert {item}, already exists\"\u001b[0m\u001b[0;34m)\u001b[0m\u001b[0;34m\u001b[0m\u001b[0;34m\u001b[0m\u001b[0m\n\u001b[0m\u001b[1;32m   1174\u001b[0m \u001b[0;34m\u001b[0m\u001b[0m\n\u001b[1;32m   1175\u001b[0m         \u001b[0;32mif\u001b[0m \u001b[0;32mnot\u001b[0m \u001b[0misinstance\u001b[0m\u001b[0;34m(\u001b[0m\u001b[0mloc\u001b[0m\u001b[0;34m,\u001b[0m \u001b[0mint\u001b[0m\u001b[0;34m)\u001b[0m\u001b[0;34m:\u001b[0m\u001b[0;34m\u001b[0m\u001b[0;34m\u001b[0m\u001b[0m\n",
      "\u001b[0;31mValueError\u001b[0m: cannot insert Cluster Labels, already exists"
     ]
    }
   ],
   "source": [
    "z.insert(0, 'Cluster Labels', kmeans.labels_)\n",
    "\n"
   ]
  },
  {
   "cell_type": "code",
   "execution_count": 72,
   "metadata": {},
   "outputs": [],
   "source": [
    "z.rename(columns={'index':'Neighborhood'},inplace=True)\n"
   ]
  },
  {
   "cell_type": "markdown",
   "metadata": {},
   "source": [
    "Finally, let's visualize the resulting clusters"
   ]
  },
  {
   "cell_type": "code",
   "execution_count": 73,
   "metadata": {},
   "outputs": [
    {
     "data": {
      "text/html": [
       "<div style=\"width:100%;\"><div style=\"position:relative;width:100%;height:0;padding-bottom:60%;\"><span style=\"color:#565656\">Make this Notebook Trusted to load map: File -> Trust Notebook</span><iframe src=\"about:blank\" style=\"position:absolute;width:100%;height:100%;left:0;top:0;border:none !important;\" data-html=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 onload=\"this.contentDocument.open();this.contentDocument.write(atob(this.getAttribute('data-html')));this.contentDocument.close();\" allowfullscreen webkitallowfullscreen mozallowfullscreen></iframe></div></div>"
      ],
      "text/plain": [
       "<folium.folium.Map at 0x7f6cecc5cb70>"
      ]
     },
     "execution_count": 73,
     "metadata": {},
     "output_type": "execute_result"
    }
   ],
   "source": [
    "map_clusters = folium.Map(location=[latitude, longitude], zoom_start=12)\n",
    "2\n",
    "# set color scheme for the clusters\n",
    "x = np.arange(kclusters)\n",
    "ys = [i + x + (i*x)**2 for i in range(kclusters)]\n",
    "colors_array = cm.rainbow(np.linspace(0, 1, len(ys)))\n",
    "rainbow = [colors.rgb2hex(i) for i in colors_array]\n",
    "\n",
    "# add markers to the map\n",
    "markers_colors = []\n",
    "for lat, lon, poi, cluster in zip(z['Latitude'], z['Longitude'], z['Neighborhood'], z['Cluster Labels']):\n",
    "    label = folium.Popup(str(poi) + ' Cluster ' + str(cluster), parse_html=True)\n",
    "    folium.CircleMarker(\n",
    "        [lat, lon],\n",
    "        radius=5,\n",
    "        popup=label,\n",
    "        color=rainbow[cluster-1],\n",
    "        fill=True,\n",
    "        fill_color=rainbow[cluster-1],\n",
    "        fill_opacity=0.7).add_to(map_clusters)\n",
    "folium.CircleMarker(centre_nyc,radius=7,popup='Central Park',colour='black',fill=True).add_to(map_clusters)       \n",
    "map_clusters\n"
   ]
  },
  {
   "cell_type": "markdown",
   "metadata": {},
   "source": [
    "## Results and discussions <a name=\"results\"></a>"
   ]
  },
  {
   "cell_type": "markdown",
   "metadata": {},
   "source": [
    "**Cluster 0**- It represents the neighborhoods that are at a greater distance from the center of Manhattan. Each neighborhood as atleast 1 gym. I would not recommend setting up a gym here as it is far from Central Park. These neighborhoods are marked in **red**."
   ]
  },
  {
   "cell_type": "code",
   "execution_count": 74,
   "metadata": {},
   "outputs": [
    {
     "data": {
      "text/html": [
       "<div>\n",
       "<style scoped>\n",
       "    .dataframe tbody tr th:only-of-type {\n",
       "        vertical-align: middle;\n",
       "    }\n",
       "\n",
       "    .dataframe tbody tr th {\n",
       "        vertical-align: top;\n",
       "    }\n",
       "\n",
       "    .dataframe thead th {\n",
       "        text-align: right;\n",
       "    }\n",
       "</style>\n",
       "<table border=\"1\" class=\"dataframe\">\n",
       "  <thead>\n",
       "    <tr style=\"text-align: right;\">\n",
       "      <th></th>\n",
       "      <th>Cluster Labels</th>\n",
       "      <th>Neighborhood</th>\n",
       "      <th>Borough</th>\n",
       "      <th>Latitude</th>\n",
       "      <th>Longitude</th>\n",
       "      <th>Distance from Centre</th>\n",
       "      <th>Gym</th>\n",
       "    </tr>\n",
       "  </thead>\n",
       "  <tbody>\n",
       "    <tr>\n",
       "      <th>10</th>\n",
       "      <td>0</td>\n",
       "      <td>Roosevelt Island</td>\n",
       "      <td>Manhattan</td>\n",
       "      <td>40.762160</td>\n",
       "      <td>-73.949168</td>\n",
       "      <td>3.014885</td>\n",
       "      <td>1.0</td>\n",
       "    </tr>\n",
       "    <tr>\n",
       "      <th>11</th>\n",
       "      <td>0</td>\n",
       "      <td>Midtown</td>\n",
       "      <td>Manhattan</td>\n",
       "      <td>40.754691</td>\n",
       "      <td>-73.981669</td>\n",
       "      <td>3.559979</td>\n",
       "      <td>2.0</td>\n",
       "    </tr>\n",
       "    <tr>\n",
       "      <th>15</th>\n",
       "      <td>0</td>\n",
       "      <td>Central Harlem</td>\n",
       "      <td>Manhattan</td>\n",
       "      <td>40.815976</td>\n",
       "      <td>-73.943211</td>\n",
       "      <td>4.029970</td>\n",
       "      <td>1.0</td>\n",
       "    </tr>\n",
       "    <tr>\n",
       "      <th>16</th>\n",
       "      <td>0</td>\n",
       "      <td>Hudson Yards</td>\n",
       "      <td>Manhattan</td>\n",
       "      <td>40.756658</td>\n",
       "      <td>-74.000111</td>\n",
       "      <td>4.146005</td>\n",
       "      <td>2.0</td>\n",
       "    </tr>\n",
       "    <tr>\n",
       "      <th>17</th>\n",
       "      <td>0</td>\n",
       "      <td>Murray Hill</td>\n",
       "      <td>Manhattan</td>\n",
       "      <td>40.748303</td>\n",
       "      <td>-73.978332</td>\n",
       "      <td>4.172419</td>\n",
       "      <td>1.0</td>\n",
       "    </tr>\n",
       "    <tr>\n",
       "      <th>18</th>\n",
       "      <td>0</td>\n",
       "      <td>Tudor City</td>\n",
       "      <td>Manhattan</td>\n",
       "      <td>40.746917</td>\n",
       "      <td>-73.971219</td>\n",
       "      <td>4.246387</td>\n",
       "      <td>2.0</td>\n",
       "    </tr>\n",
       "  </tbody>\n",
       "</table>\n",
       "</div>"
      ],
      "text/plain": [
       "    Cluster Labels      Neighborhood    Borough   Latitude  Longitude  \\\n",
       "10               0  Roosevelt Island  Manhattan  40.762160 -73.949168   \n",
       "11               0           Midtown  Manhattan  40.754691 -73.981669   \n",
       "15               0    Central Harlem  Manhattan  40.815976 -73.943211   \n",
       "16               0      Hudson Yards  Manhattan  40.756658 -74.000111   \n",
       "17               0       Murray Hill  Manhattan  40.748303 -73.978332   \n",
       "18               0        Tudor City  Manhattan  40.746917 -73.971219   \n",
       "\n",
       "    Distance from Centre  Gym  \n",
       "10              3.014885  1.0  \n",
       "11              3.559979  2.0  \n",
       "15              4.029970  1.0  \n",
       "16              4.146005  2.0  \n",
       "17              4.172419  1.0  \n",
       "18              4.246387  2.0  "
      ]
     },
     "execution_count": 74,
     "metadata": {},
     "output_type": "execute_result"
    }
   ],
   "source": [
    "z.loc[z['Cluster Labels'] == 0]\n"
   ]
  },
  {
   "cell_type": "markdown",
   "metadata": {},
   "source": [
    "**Cluster 1** - These are neighborhoods with plenty of gyms already. There will be fierce competition here and that may impact revenue. These points are marked in **purple**."
   ]
  },
  {
   "cell_type": "code",
   "execution_count": 49,
   "metadata": {},
   "outputs": [
    {
     "data": {
      "text/html": [
       "<div>\n",
       "<style scoped>\n",
       "    .dataframe tbody tr th:only-of-type {\n",
       "        vertical-align: middle;\n",
       "    }\n",
       "\n",
       "    .dataframe tbody tr th {\n",
       "        vertical-align: top;\n",
       "    }\n",
       "\n",
       "    .dataframe thead th {\n",
       "        text-align: right;\n",
       "    }\n",
       "</style>\n",
       "<table border=\"1\" class=\"dataframe\">\n",
       "  <thead>\n",
       "    <tr style=\"text-align: right;\">\n",
       "      <th></th>\n",
       "      <th>Cluster Labels</th>\n",
       "      <th>Neighborhood</th>\n",
       "      <th>Borough</th>\n",
       "      <th>Latitude</th>\n",
       "      <th>Longitude</th>\n",
       "      <th>Distance from Centre</th>\n",
       "      <th>Gym</th>\n",
       "    </tr>\n",
       "  </thead>\n",
       "  <tbody>\n",
       "    <tr>\n",
       "      <th>6</th>\n",
       "      <td>1</td>\n",
       "      <td>Yorkville</td>\n",
       "      <td>Manhattan</td>\n",
       "      <td>40.775930</td>\n",
       "      <td>-73.947118</td>\n",
       "      <td>2.056120</td>\n",
       "      <td>5.0</td>\n",
       "    </tr>\n",
       "    <tr>\n",
       "      <th>14</th>\n",
       "      <td>1</td>\n",
       "      <td>Clinton</td>\n",
       "      <td>Manhattan</td>\n",
       "      <td>40.759101</td>\n",
       "      <td>-73.996119</td>\n",
       "      <td>3.721841</td>\n",
       "      <td>4.0</td>\n",
       "    </tr>\n",
       "  </tbody>\n",
       "</table>\n",
       "</div>"
      ],
      "text/plain": [
       "    Cluster Labels Neighborhood    Borough   Latitude  Longitude  \\\n",
       "6                1    Yorkville  Manhattan  40.775930 -73.947118   \n",
       "14               1      Clinton  Manhattan  40.759101 -73.996119   \n",
       "\n",
       "    Distance from Centre  Gym  \n",
       "6               2.056120  5.0  \n",
       "14              3.721841  4.0  "
      ]
     },
     "execution_count": 49,
     "metadata": {},
     "output_type": "execute_result"
    }
   ],
   "source": [
    "z.loc[z['Cluster Labels'] == 1]"
   ]
  },
  {
   "cell_type": "markdown",
   "metadata": {},
   "source": [
    "**Cluster 2** - These are the points closest to Central Park and are greatly untapped. These neighborhoods offer great potential. I would recommend these neighborhoods. However one must keep in mind that these neighborhoods are very expensive and there will be significant overhead costs to setting up a gym here. These points are marked in **light blue**."
   ]
  },
  {
   "cell_type": "code",
   "execution_count": 50,
   "metadata": {},
   "outputs": [
    {
     "data": {
      "text/html": [
       "<div>\n",
       "<style scoped>\n",
       "    .dataframe tbody tr th:only-of-type {\n",
       "        vertical-align: middle;\n",
       "    }\n",
       "\n",
       "    .dataframe tbody tr th {\n",
       "        vertical-align: top;\n",
       "    }\n",
       "\n",
       "    .dataframe thead th {\n",
       "        text-align: right;\n",
       "    }\n",
       "</style>\n",
       "<table border=\"1\" class=\"dataframe\">\n",
       "  <thead>\n",
       "    <tr style=\"text-align: right;\">\n",
       "      <th></th>\n",
       "      <th>Cluster Labels</th>\n",
       "      <th>Neighborhood</th>\n",
       "      <th>Borough</th>\n",
       "      <th>Latitude</th>\n",
       "      <th>Longitude</th>\n",
       "      <th>Distance from Centre</th>\n",
       "      <th>Gym</th>\n",
       "    </tr>\n",
       "  </thead>\n",
       "  <tbody>\n",
       "    <tr>\n",
       "      <th>0</th>\n",
       "      <td>2</td>\n",
       "      <td>Upper West Side</td>\n",
       "      <td>Manhattan</td>\n",
       "      <td>40.787658</td>\n",
       "      <td>-73.977059</td>\n",
       "      <td>0.793568</td>\n",
       "      <td>1.0</td>\n",
       "    </tr>\n",
       "    <tr>\n",
       "      <th>1</th>\n",
       "      <td>2</td>\n",
       "      <td>Upper East Side</td>\n",
       "      <td>Manhattan</td>\n",
       "      <td>40.775639</td>\n",
       "      <td>-73.960508</td>\n",
       "      <td>1.238088</td>\n",
       "      <td>0.0</td>\n",
       "    </tr>\n",
       "    <tr>\n",
       "      <th>3</th>\n",
       "      <td>2</td>\n",
       "      <td>Manhattan Valley</td>\n",
       "      <td>Manhattan</td>\n",
       "      <td>40.797307</td>\n",
       "      <td>-73.964286</td>\n",
       "      <td>1.397942</td>\n",
       "      <td>0.0</td>\n",
       "    </tr>\n",
       "    <tr>\n",
       "      <th>7</th>\n",
       "      <td>2</td>\n",
       "      <td>East Harlem</td>\n",
       "      <td>Manhattan</td>\n",
       "      <td>40.792249</td>\n",
       "      <td>-73.944182</td>\n",
       "      <td>2.184156</td>\n",
       "      <td>1.0</td>\n",
       "    </tr>\n",
       "    <tr>\n",
       "      <th>8</th>\n",
       "      <td>2</td>\n",
       "      <td>Morningside Heights</td>\n",
       "      <td>Manhattan</td>\n",
       "      <td>40.808000</td>\n",
       "      <td>-73.963896</td>\n",
       "      <td>2.570835</td>\n",
       "      <td>0.0</td>\n",
       "    </tr>\n",
       "  </tbody>\n",
       "</table>\n",
       "</div>"
      ],
      "text/plain": [
       "   Cluster Labels         Neighborhood    Borough   Latitude  Longitude  \\\n",
       "0               2      Upper West Side  Manhattan  40.787658 -73.977059   \n",
       "1               2      Upper East Side  Manhattan  40.775639 -73.960508   \n",
       "3               2     Manhattan Valley  Manhattan  40.797307 -73.964286   \n",
       "7               2          East Harlem  Manhattan  40.792249 -73.944182   \n",
       "8               2  Morningside Heights  Manhattan  40.808000 -73.963896   \n",
       "\n",
       "   Distance from Centre  Gym  \n",
       "0              0.793568  1.0  \n",
       "1              1.238088  0.0  \n",
       "3              1.397942  0.0  \n",
       "7              2.184156  1.0  \n",
       "8              2.570835  0.0  "
      ]
     },
     "execution_count": 50,
     "metadata": {},
     "output_type": "execute_result"
    }
   ],
   "source": [
    "z.loc[z['Cluster Labels'] == 2]"
   ]
  },
  {
   "cell_type": "markdown",
   "metadata": {},
   "source": [
    "**Cluster 3** - These are points that are slightly further away from the center. However no gym exists in the neighborhood of these vicinities so it may result in high revenue. The cost of setting up the gym might also be much lower than cluster 2. They are marked in **light green**."
   ]
  },
  {
   "cell_type": "code",
   "execution_count": 51,
   "metadata": {},
   "outputs": [
    {
     "data": {
      "text/html": [
       "<div>\n",
       "<style scoped>\n",
       "    .dataframe tbody tr th:only-of-type {\n",
       "        vertical-align: middle;\n",
       "    }\n",
       "\n",
       "    .dataframe tbody tr th {\n",
       "        vertical-align: top;\n",
       "    }\n",
       "\n",
       "    .dataframe thead th {\n",
       "        text-align: right;\n",
       "    }\n",
       "</style>\n",
       "<table border=\"1\" class=\"dataframe\">\n",
       "  <thead>\n",
       "    <tr style=\"text-align: right;\">\n",
       "      <th></th>\n",
       "      <th>Cluster Labels</th>\n",
       "      <th>Neighborhood</th>\n",
       "      <th>Borough</th>\n",
       "      <th>Latitude</th>\n",
       "      <th>Longitude</th>\n",
       "      <th>Distance from Centre</th>\n",
       "      <th>Gym</th>\n",
       "    </tr>\n",
       "  </thead>\n",
       "  <tbody>\n",
       "    <tr>\n",
       "      <th>12</th>\n",
       "      <td>3</td>\n",
       "      <td>Manhattanville</td>\n",
       "      <td>Manhattan</td>\n",
       "      <td>40.816934</td>\n",
       "      <td>-73.957385</td>\n",
       "      <td>3.653879</td>\n",
       "      <td>0.0</td>\n",
       "    </tr>\n",
       "    <tr>\n",
       "      <th>13</th>\n",
       "      <td>3</td>\n",
       "      <td>Turtle Bay</td>\n",
       "      <td>Manhattan</td>\n",
       "      <td>40.752042</td>\n",
       "      <td>-73.967708</td>\n",
       "      <td>3.670355</td>\n",
       "      <td>0.0</td>\n",
       "    </tr>\n",
       "    <tr>\n",
       "      <th>19</th>\n",
       "      <td>3</td>\n",
       "      <td>Midtown South</td>\n",
       "      <td>Manhattan</td>\n",
       "      <td>40.748510</td>\n",
       "      <td>-73.988713</td>\n",
       "      <td>4.413320</td>\n",
       "      <td>0.0</td>\n",
       "    </tr>\n",
       "    <tr>\n",
       "      <th>20</th>\n",
       "      <td>3</td>\n",
       "      <td>Hamilton Heights</td>\n",
       "      <td>Manhattan</td>\n",
       "      <td>40.823604</td>\n",
       "      <td>-73.949688</td>\n",
       "      <td>4.555719</td>\n",
       "      <td>0.0</td>\n",
       "    </tr>\n",
       "  </tbody>\n",
       "</table>\n",
       "</div>"
      ],
      "text/plain": [
       "    Cluster Labels      Neighborhood    Borough   Latitude  Longitude  \\\n",
       "12               3    Manhattanville  Manhattan  40.816934 -73.957385   \n",
       "13               3        Turtle Bay  Manhattan  40.752042 -73.967708   \n",
       "19               3     Midtown South  Manhattan  40.748510 -73.988713   \n",
       "20               3  Hamilton Heights  Manhattan  40.823604 -73.949688   \n",
       "\n",
       "    Distance from Centre  Gym  \n",
       "12              3.653879  0.0  \n",
       "13              3.670355  0.0  \n",
       "19              4.413320  0.0  \n",
       "20              4.555719  0.0  "
      ]
     },
     "execution_count": 51,
     "metadata": {},
     "output_type": "execute_result"
    }
   ],
   "source": [
    "z.loc[z['Cluster Labels'] == 3]"
   ]
  },
  {
   "cell_type": "markdown",
   "metadata": {},
   "source": [
    "**Cluster 4**- This cluster shows points that are somewhat between the outskirts and center of Manhattan. There exist gyms already which may offer some competition. However that number is far lesser than that of cluster 1. They can also be seen as promising as prices will be lower. These are shown in  **orange** ."
   ]
  },
  {
   "cell_type": "code",
   "execution_count": 52,
   "metadata": {},
   "outputs": [
    {
     "data": {
      "text/html": [
       "<div>\n",
       "<style scoped>\n",
       "    .dataframe tbody tr th:only-of-type {\n",
       "        vertical-align: middle;\n",
       "    }\n",
       "\n",
       "    .dataframe tbody tr th {\n",
       "        vertical-align: top;\n",
       "    }\n",
       "\n",
       "    .dataframe thead th {\n",
       "        text-align: right;\n",
       "    }\n",
       "</style>\n",
       "<table border=\"1\" class=\"dataframe\">\n",
       "  <thead>\n",
       "    <tr style=\"text-align: right;\">\n",
       "      <th></th>\n",
       "      <th>Cluster Labels</th>\n",
       "      <th>Neighborhood</th>\n",
       "      <th>Borough</th>\n",
       "      <th>Latitude</th>\n",
       "      <th>Longitude</th>\n",
       "      <th>Distance from Centre</th>\n",
       "      <th>Gym</th>\n",
       "    </tr>\n",
       "  </thead>\n",
       "  <tbody>\n",
       "    <tr>\n",
       "      <th>2</th>\n",
       "      <td>4</td>\n",
       "      <td>Carnegie Hill</td>\n",
       "      <td>Manhattan</td>\n",
       "      <td>40.782683</td>\n",
       "      <td>-73.953256</td>\n",
       "      <td>1.296437</td>\n",
       "      <td>3.0</td>\n",
       "    </tr>\n",
       "    <tr>\n",
       "      <th>4</th>\n",
       "      <td>4</td>\n",
       "      <td>Lincoln Square</td>\n",
       "      <td>Manhattan</td>\n",
       "      <td>40.773529</td>\n",
       "      <td>-73.985338</td>\n",
       "      <td>1.928930</td>\n",
       "      <td>2.0</td>\n",
       "    </tr>\n",
       "    <tr>\n",
       "      <th>5</th>\n",
       "      <td>4</td>\n",
       "      <td>Lenox Hill</td>\n",
       "      <td>Manhattan</td>\n",
       "      <td>40.768113</td>\n",
       "      <td>-73.958860</td>\n",
       "      <td>2.046453</td>\n",
       "      <td>3.0</td>\n",
       "    </tr>\n",
       "    <tr>\n",
       "      <th>9</th>\n",
       "      <td>4</td>\n",
       "      <td>Sutton Place</td>\n",
       "      <td>Manhattan</td>\n",
       "      <td>40.760280</td>\n",
       "      <td>-73.963556</td>\n",
       "      <td>2.783986</td>\n",
       "      <td>2.0</td>\n",
       "    </tr>\n",
       "  </tbody>\n",
       "</table>\n",
       "</div>"
      ],
      "text/plain": [
       "   Cluster Labels    Neighborhood    Borough   Latitude  Longitude  \\\n",
       "2               4   Carnegie Hill  Manhattan  40.782683 -73.953256   \n",
       "4               4  Lincoln Square  Manhattan  40.773529 -73.985338   \n",
       "5               4      Lenox Hill  Manhattan  40.768113 -73.958860   \n",
       "9               4    Sutton Place  Manhattan  40.760280 -73.963556   \n",
       "\n",
       "   Distance from Centre  Gym  \n",
       "2              1.296437  3.0  \n",
       "4              1.928930  2.0  \n",
       "5              2.046453  3.0  \n",
       "9              2.783986  2.0  "
      ]
     },
     "execution_count": 52,
     "metadata": {},
     "output_type": "execute_result"
    }
   ],
   "source": [
    "z.loc[z['Cluster Labels'] == 4]"
   ]
  },
  {
   "cell_type": "markdown",
   "metadata": {},
   "source": [
    "### Lets attempt to give a value to the potential of each neighborhood"
   ]
  },
  {
   "cell_type": "markdown",
   "metadata": {},
   "source": [
    "First let us normalize the values of distance and count to get a fair model"
   ]
  },
  {
   "cell_type": "code",
   "execution_count": 75,
   "metadata": {},
   "outputs": [],
   "source": [
    "from sklearn import preprocessing\n",
    "import numpy as np"
   ]
  },
  {
   "cell_type": "code",
   "execution_count": 76,
   "metadata": {},
   "outputs": [],
   "source": [
    "X=z[['Distance from Centre','Gym']].values\n",
    "mm_scaler = preprocessing.MinMaxScaler()\n",
    "scaled_data = mm_scaler.fit_transform(X)\n",
    "m=pd.DataFrame(scaled_data,columns=['NormDist','NormGym'])\n",
    "p=z\n",
    "for data in z:\n",
    "    a11=m[['NormDist']]\n",
    "    a12=m[['NormGym']]\n",
    "a13=pd.concat([a11,a12],axis=1,join='outer')\n",
    "z2=pd.concat([a13,p],axis=1,join='outer')\n",
    "z2.drop(columns=['Distance from Centre','Gym'],inplace=True)\n"
   ]
  },
  {
   "cell_type": "code",
   "execution_count": 77,
   "metadata": {},
   "outputs": [
    {
     "data": {
      "text/html": [
       "<div>\n",
       "<style scoped>\n",
       "    .dataframe tbody tr th:only-of-type {\n",
       "        vertical-align: middle;\n",
       "    }\n",
       "\n",
       "    .dataframe tbody tr th {\n",
       "        vertical-align: top;\n",
       "    }\n",
       "\n",
       "    .dataframe thead th {\n",
       "        text-align: right;\n",
       "    }\n",
       "</style>\n",
       "<table border=\"1\" class=\"dataframe\">\n",
       "  <thead>\n",
       "    <tr style=\"text-align: right;\">\n",
       "      <th></th>\n",
       "      <th>NormDist</th>\n",
       "      <th>NormGym</th>\n",
       "      <th>Cluster Labels</th>\n",
       "      <th>Neighborhood</th>\n",
       "      <th>Borough</th>\n",
       "      <th>Latitude</th>\n",
       "      <th>Longitude</th>\n",
       "    </tr>\n",
       "  </thead>\n",
       "  <tbody>\n",
       "    <tr>\n",
       "      <th>0</th>\n",
       "      <td>0.000000</td>\n",
       "      <td>0.2</td>\n",
       "      <td>2</td>\n",
       "      <td>Upper West Side</td>\n",
       "      <td>Manhattan</td>\n",
       "      <td>40.787658</td>\n",
       "      <td>-73.977059</td>\n",
       "    </tr>\n",
       "    <tr>\n",
       "      <th>1</th>\n",
       "      <td>0.118156</td>\n",
       "      <td>0.0</td>\n",
       "      <td>2</td>\n",
       "      <td>Upper East Side</td>\n",
       "      <td>Manhattan</td>\n",
       "      <td>40.775639</td>\n",
       "      <td>-73.960508</td>\n",
       "    </tr>\n",
       "    <tr>\n",
       "      <th>2</th>\n",
       "      <td>0.133665</td>\n",
       "      <td>0.6</td>\n",
       "      <td>4</td>\n",
       "      <td>Carnegie Hill</td>\n",
       "      <td>Manhattan</td>\n",
       "      <td>40.782683</td>\n",
       "      <td>-73.953256</td>\n",
       "    </tr>\n",
       "    <tr>\n",
       "      <th>3</th>\n",
       "      <td>0.160646</td>\n",
       "      <td>0.0</td>\n",
       "      <td>2</td>\n",
       "      <td>Manhattan Valley</td>\n",
       "      <td>Manhattan</td>\n",
       "      <td>40.797307</td>\n",
       "      <td>-73.964286</td>\n",
       "    </tr>\n",
       "    <tr>\n",
       "      <th>4</th>\n",
       "      <td>0.301785</td>\n",
       "      <td>0.4</td>\n",
       "      <td>4</td>\n",
       "      <td>Lincoln Square</td>\n",
       "      <td>Manhattan</td>\n",
       "      <td>40.773529</td>\n",
       "      <td>-73.985338</td>\n",
       "    </tr>\n",
       "  </tbody>\n",
       "</table>\n",
       "</div>"
      ],
      "text/plain": [
       "   NormDist  NormGym  Cluster Labels      Neighborhood    Borough   Latitude  \\\n",
       "0  0.000000      0.2               2   Upper West Side  Manhattan  40.787658   \n",
       "1  0.118156      0.0               2   Upper East Side  Manhattan  40.775639   \n",
       "2  0.133665      0.6               4     Carnegie Hill  Manhattan  40.782683   \n",
       "3  0.160646      0.0               2  Manhattan Valley  Manhattan  40.797307   \n",
       "4  0.301785      0.4               4    Lincoln Square  Manhattan  40.773529   \n",
       "\n",
       "   Longitude  \n",
       "0 -73.977059  \n",
       "1 -73.960508  \n",
       "2 -73.953256  \n",
       "3 -73.964286  \n",
       "4 -73.985338  "
      ]
     },
     "execution_count": 77,
     "metadata": {},
     "output_type": "execute_result"
    }
   ],
   "source": [
    "z2.head()"
   ]
  },
  {
   "cell_type": "markdown",
   "metadata": {},
   "source": [
    "I will now use seaborn to plot a barchart. **The x-axis represents the neighborhoods** while the **y-axis shows the potential for each neighborhood**. I have decide the potential as per the formula\n",
    "\n",
    "Potential=5/((Distance+1)(Gym+1))"
   ]
  },
  {
   "cell_type": "code",
   "execution_count": 78,
   "metadata": {},
   "outputs": [
    {
     "data": {
      "text/plain": [
       "(array([ 0,  1,  2,  3,  4,  5,  6,  7,  8,  9, 10, 11, 12, 13, 14, 15, 16,\n",
       "        17, 18, 19, 20]),\n",
       " <a list of 21 Text xticklabel objects>)"
      ]
     },
     "execution_count": 78,
     "metadata": {},
     "output_type": "execute_result"
    },
    {
     "data": {
      "image/png": "[encoded data removed]",
      "text/plain": [
       "<Figure size 1440x576 with 1 Axes>"
      ]
     },
     "metadata": {
      "needs_background": "light"
     },
     "output_type": "display_data"
    }
   ],
   "source": [
    "import matplotlib.pyplot as plt\n",
    "plt.figure(figsize=(20,8))\n",
    "import seaborn as sns\n",
    "sns.barplot(x=z2['Neighborhood'],y=5/((z2['NormDist']+1)*(z2['NormGym']+1)))\n",
    "plt.ylabel('Potential of Each Neighbourhood')\n",
    "plt.xticks(rotation='vertical')"
   ]
  },
  {
   "cell_type": "markdown",
   "metadata": {},
   "source": [
    "I believe this barchart further proves the inferences we made from the clusters obtained. We eliminate all the neighborhoods in cluster 0 and 1 fro low potential. The highest potential is seen in neighborhoods \n",
    "* Upper West Side\n",
    "* Upper East side\n",
    "* Manhattan Valley\n",
    "* Morningside Heights\n",
    "* East Harlem"
   ]
  },
  {
   "cell_type": "markdown",
   "metadata": {},
   "source": [
    "These points belong to cluster 1 and are the ideal spots to generate maximum revenue. They have almost no preexisting gyms and are very close to the center of the city. Upper West Side mainly comprises of restaurants and delis. **Nothing here suggests any athletic activities take place in this locality**. Thus it can be eliminated. This is the issue with East Harlem as well.  "
   ]
  },
  {
   "cell_type": "markdown",
   "metadata": {},
   "source": [
    "We can divide the remaining prospect neighborhoods into 2 categories. The first being neighborhoods that are close to the center and indicate athletic activities. Little to no gyms exist here. The neighborhoods are:\n",
    "* Upper East Side\n",
    "* Morningside Heights\n",
    "* Manhattan Valley"
   ]
  },
  {
   "cell_type": "markdown",
   "metadata": {},
   "source": [
    "One must keep in mind that these areas are expensive. Upper east side and Manhattan Valley are the ideal places to set up the gym as Morningside Heights is a little further away. Personally I would suggest **Manhattan Valley** as the ideal location as it has Yoga centers as well as a spa. These services nicely complement a gym and will enhance revenue."
   ]
  },
  {
   "cell_type": "markdown",
   "metadata": {},
   "source": [
    "The next category is that of gyms that are further away from the center but will be cheaper to set up. The competition is also higher in this category. The neighborhoods here are:\n",
    "* Carnegie Hill\n",
    "* Lincoln Square\n",
    "* Manhattanville\n",
    "* Sutton Place\n",
    "* Turtle Bay"
   ]
  },
  {
   "cell_type": "markdown",
   "metadata": {},
   "source": [
    "The barchart suggests that **Manhattanville and Turtle Bay** both are good prospects. Carnegie Hill and Lincoln square are a tad bit overcrowded with gyms and Sutton Place is too far from the center of Manhattan.\n",
    "There exists parks in both these regions which will help with customer traffic."
   ]
  },
  {
   "cell_type": "markdown",
   "metadata": {},
   "source": [
    "## Conclusion <a name=\"conclusion\"></a>"
   ]
  },
  {
   "cell_type": "markdown",
   "metadata": {},
   "source": [
    "The purpose of this project was to identify a suitable location for stakeholders looking to set up a gym. Through the application of clustering and Foursquare API, I have identified the best neighborhoods for this project. They are\n",
    "* Manhattan Valley\n",
    "* Upper East Side\n",
    "* Manhattanville\n",
    "* Turtle Bay"
   ]
  },
  {
   "cell_type": "markdown",
   "metadata": {},
   "source": [
    "Manhattan Valley would require higher capital but would generate the maximum revenue. It is the closest to the center and has complementary businesses. Upper East Side is a good prospect as well but will be even more expensive. Manhattanville and Turtle Bay are ideal prospects for stakeholders who would not wish to play the excessive charges of location. The competition in this region is higher as most gym owners would prefer this region. "
   ]
  },
  {
   "cell_type": "markdown",
   "metadata": {},
   "source": [
    "The final decision would ultimately depend on the stakeholder and the budget he/she has. Personal preference will play a big role as well in determining the best location."
   ]
  },
  {
   "cell_type": "code",
   "execution_count": null,
   "metadata": {},
   "outputs": [],
   "source": []
  }
 ],
 "metadata": {
  "kernelspec": {
   "display_name": "Python",
   "language": "python",
   "name": "conda-env-python-py"
  },
  "language_info": {
   "codemirror_mode": {
    "name": "ipython",
    "version": 3
   },
   "file_extension": ".py",
   "mimetype": "text/x-python",
   "name": "python",
   "nbconvert_exporter": "python",
   "pygments_lexer": "ipython3",
   "version": "3.6.10"
  }
 },
 "nbformat": 4,
 "nbformat_minor": 4
}
